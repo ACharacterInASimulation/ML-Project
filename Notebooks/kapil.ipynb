{
  "nbformat": 4,
  "nbformat_minor": 0,
  "metadata": {
    "colab": {
      "provenance": [],
      "gpuType": "T4"
    },
    "kernelspec": {
      "name": "python3",
      "display_name": "Python 3"
    },
    "language_info": {
      "name": "python"
    },
    "accelerator": "GPU"
  },
  "cells": [
    {
      "cell_type": "code",
      "execution_count": null,
      "metadata": {
        "id": "wiHUuz9pJUex"
      },
      "outputs": [],
      "source": []
    },
    {
      "cell_type": "code",
      "execution_count": 1,
      "metadata": {
        "id": "m5FaehDZEUW2"
      },
      "outputs": [],
      "source": [
        "import pandas as pd\n",
        "import numpy as np\n",
        "import matplotlib.pyplot as plt\n",
        "import seaborn as sns\n",
        "import warnings\n",
        "from google.colab import drive"
      ]
    },
    {
      "cell_type": "code",
      "source": [
        "%matplotlib inline\n",
        "sns.set_style('darkgrid')\n",
        "warnings.filterwarnings(\"ignore\")"
      ],
      "metadata": {
        "id": "urUAUhsMEhk2"
      },
      "execution_count": 2,
      "outputs": []
    },
    {
      "cell_type": "code",
      "source": [
        "df = pd.read_csv(\"Train.csv\")\n",
        "df.head()"
      ],
      "metadata": {
        "colab": {
          "base_uri": "https://localhost:8080/",
          "height": 313
        },
        "id": "fWCn2C9cEjCT",
        "outputId": "a36ebedb-cf1e-4053-f522-07aea158aaf0"
      },
      "execution_count": 3,
      "outputs": [
        {
          "output_type": "execute_result",
          "data": {
            "text/plain": [
              "                                    user_id  REGION         TENURE  MONTANT  \\\n",
              "0  00000bfd7d50f01092811bc0c8d7b0d6fe7c3596  FATICK   K > 24 month   4250.0   \n",
              "1  00000cb4a5d760de88fecb38e2f71b7bec52e834     NaN  I 18-21 month      NaN   \n",
              "2  00001654a9d9f96303d9969d0a4a851714a4bb57     NaN   K > 24 month   3600.0   \n",
              "3  00001dd6fa45f7ba044bd5d84937be464ce78ac2   DAKAR   K > 24 month  13500.0   \n",
              "4  000028d9e13a595abe061f9b58f3d76ab907850f   DAKAR   K > 24 month   1000.0   \n",
              "\n",
              "   FREQUENCE_RECH  REVENUE  ARPU_SEGMENT  FREQUENCE  DATA_VOLUME  ON_NET  \\\n",
              "0            15.0   4251.0        1417.0       17.0          4.0   388.0   \n",
              "1             NaN      NaN           NaN        NaN          NaN     NaN   \n",
              "2             2.0   1020.0         340.0        2.0          NaN    90.0   \n",
              "3            15.0  13502.0        4501.0       18.0      43804.0    41.0   \n",
              "4             1.0    985.0         328.0        1.0          NaN    39.0   \n",
              "\n",
              "   ORANGE  TIGO  ZONE1  ZONE2 MRG  REGULARITY                        TOP_PACK  \\\n",
              "0    46.0   1.0    1.0    2.0  NO          54  On net 200F=Unlimited _call24H   \n",
              "1     NaN   NaN    NaN    NaN  NO           4                             NaN   \n",
              "2    46.0   7.0    NaN    NaN  NO          17         On-net 1000F=10MilF;10d   \n",
              "3   102.0   2.0    NaN    NaN  NO          62               Data:1000F=5GB,7d   \n",
              "4    24.0   NaN    NaN    NaN  NO          11     Mixt 250F=Unlimited_call24H   \n",
              "\n",
              "   FREQ_TOP_PACK  CHURN  \n",
              "0            8.0      0  \n",
              "1            NaN      1  \n",
              "2            1.0      0  \n",
              "3           11.0      0  \n",
              "4            2.0      0  "
            ],
            "text/html": [
              "\n",
              "  <div id=\"df-6e2241c0-de60-48e8-90af-f328fa6c1ce6\" class=\"colab-df-container\">\n",
              "    <div>\n",
              "<style scoped>\n",
              "    .dataframe tbody tr th:only-of-type {\n",
              "        vertical-align: middle;\n",
              "    }\n",
              "\n",
              "    .dataframe tbody tr th {\n",
              "        vertical-align: top;\n",
              "    }\n",
              "\n",
              "    .dataframe thead th {\n",
              "        text-align: right;\n",
              "    }\n",
              "</style>\n",
              "<table border=\"1\" class=\"dataframe\">\n",
              "  <thead>\n",
              "    <tr style=\"text-align: right;\">\n",
              "      <th></th>\n",
              "      <th>user_id</th>\n",
              "      <th>REGION</th>\n",
              "      <th>TENURE</th>\n",
              "      <th>MONTANT</th>\n",
              "      <th>FREQUENCE_RECH</th>\n",
              "      <th>REVENUE</th>\n",
              "      <th>ARPU_SEGMENT</th>\n",
              "      <th>FREQUENCE</th>\n",
              "      <th>DATA_VOLUME</th>\n",
              "      <th>ON_NET</th>\n",
              "      <th>ORANGE</th>\n",
              "      <th>TIGO</th>\n",
              "      <th>ZONE1</th>\n",
              "      <th>ZONE2</th>\n",
              "      <th>MRG</th>\n",
              "      <th>REGULARITY</th>\n",
              "      <th>TOP_PACK</th>\n",
              "      <th>FREQ_TOP_PACK</th>\n",
              "      <th>CHURN</th>\n",
              "    </tr>\n",
              "  </thead>\n",
              "  <tbody>\n",
              "    <tr>\n",
              "      <th>0</th>\n",
              "      <td>00000bfd7d50f01092811bc0c8d7b0d6fe7c3596</td>\n",
              "      <td>FATICK</td>\n",
              "      <td>K &gt; 24 month</td>\n",
              "      <td>4250.0</td>\n",
              "      <td>15.0</td>\n",
              "      <td>4251.0</td>\n",
              "      <td>1417.0</td>\n",
              "      <td>17.0</td>\n",
              "      <td>4.0</td>\n",
              "      <td>388.0</td>\n",
              "      <td>46.0</td>\n",
              "      <td>1.0</td>\n",
              "      <td>1.0</td>\n",
              "      <td>2.0</td>\n",
              "      <td>NO</td>\n",
              "      <td>54</td>\n",
              "      <td>On net 200F=Unlimited _call24H</td>\n",
              "      <td>8.0</td>\n",
              "      <td>0</td>\n",
              "    </tr>\n",
              "    <tr>\n",
              "      <th>1</th>\n",
              "      <td>00000cb4a5d760de88fecb38e2f71b7bec52e834</td>\n",
              "      <td>NaN</td>\n",
              "      <td>I 18-21 month</td>\n",
              "      <td>NaN</td>\n",
              "      <td>NaN</td>\n",
              "      <td>NaN</td>\n",
              "      <td>NaN</td>\n",
              "      <td>NaN</td>\n",
              "      <td>NaN</td>\n",
              "      <td>NaN</td>\n",
              "      <td>NaN</td>\n",
              "      <td>NaN</td>\n",
              "      <td>NaN</td>\n",
              "      <td>NaN</td>\n",
              "      <td>NO</td>\n",
              "      <td>4</td>\n",
              "      <td>NaN</td>\n",
              "      <td>NaN</td>\n",
              "      <td>1</td>\n",
              "    </tr>\n",
              "    <tr>\n",
              "      <th>2</th>\n",
              "      <td>00001654a9d9f96303d9969d0a4a851714a4bb57</td>\n",
              "      <td>NaN</td>\n",
              "      <td>K &gt; 24 month</td>\n",
              "      <td>3600.0</td>\n",
              "      <td>2.0</td>\n",
              "      <td>1020.0</td>\n",
              "      <td>340.0</td>\n",
              "      <td>2.0</td>\n",
              "      <td>NaN</td>\n",
              "      <td>90.0</td>\n",
              "      <td>46.0</td>\n",
              "      <td>7.0</td>\n",
              "      <td>NaN</td>\n",
              "      <td>NaN</td>\n",
              "      <td>NO</td>\n",
              "      <td>17</td>\n",
              "      <td>On-net 1000F=10MilF;10d</td>\n",
              "      <td>1.0</td>\n",
              "      <td>0</td>\n",
              "    </tr>\n",
              "    <tr>\n",
              "      <th>3</th>\n",
              "      <td>00001dd6fa45f7ba044bd5d84937be464ce78ac2</td>\n",
              "      <td>DAKAR</td>\n",
              "      <td>K &gt; 24 month</td>\n",
              "      <td>13500.0</td>\n",
              "      <td>15.0</td>\n",
              "      <td>13502.0</td>\n",
              "      <td>4501.0</td>\n",
              "      <td>18.0</td>\n",
              "      <td>43804.0</td>\n",
              "      <td>41.0</td>\n",
              "      <td>102.0</td>\n",
              "      <td>2.0</td>\n",
              "      <td>NaN</td>\n",
              "      <td>NaN</td>\n",
              "      <td>NO</td>\n",
              "      <td>62</td>\n",
              "      <td>Data:1000F=5GB,7d</td>\n",
              "      <td>11.0</td>\n",
              "      <td>0</td>\n",
              "    </tr>\n",
              "    <tr>\n",
              "      <th>4</th>\n",
              "      <td>000028d9e13a595abe061f9b58f3d76ab907850f</td>\n",
              "      <td>DAKAR</td>\n",
              "      <td>K &gt; 24 month</td>\n",
              "      <td>1000.0</td>\n",
              "      <td>1.0</td>\n",
              "      <td>985.0</td>\n",
              "      <td>328.0</td>\n",
              "      <td>1.0</td>\n",
              "      <td>NaN</td>\n",
              "      <td>39.0</td>\n",
              "      <td>24.0</td>\n",
              "      <td>NaN</td>\n",
              "      <td>NaN</td>\n",
              "      <td>NaN</td>\n",
              "      <td>NO</td>\n",
              "      <td>11</td>\n",
              "      <td>Mixt 250F=Unlimited_call24H</td>\n",
              "      <td>2.0</td>\n",
              "      <td>0</td>\n",
              "    </tr>\n",
              "  </tbody>\n",
              "</table>\n",
              "</div>\n",
              "    <div class=\"colab-df-buttons\">\n",
              "\n",
              "  <div class=\"colab-df-container\">\n",
              "    <button class=\"colab-df-convert\" onclick=\"convertToInteractive('df-6e2241c0-de60-48e8-90af-f328fa6c1ce6')\"\n",
              "            title=\"Convert this dataframe to an interactive table.\"\n",
              "            style=\"display:none;\">\n",
              "\n",
              "  <svg xmlns=\"http://www.w3.org/2000/svg\" height=\"24px\" viewBox=\"0 -960 960 960\">\n",
              "    <path d=\"M120-120v-720h720v720H120Zm60-500h600v-160H180v160Zm220 220h160v-160H400v160Zm0 220h160v-160H400v160ZM180-400h160v-160H180v160Zm440 0h160v-160H620v160ZM180-180h160v-160H180v160Zm440 0h160v-160H620v160Z\"/>\n",
              "  </svg>\n",
              "    </button>\n",
              "\n",
              "  <style>\n",
              "    .colab-df-container {\n",
              "      display:flex;\n",
              "      gap: 12px;\n",
              "    }\n",
              "\n",
              "    .colab-df-convert {\n",
              "      background-color: #E8F0FE;\n",
              "      border: none;\n",
              "      border-radius: 50%;\n",
              "      cursor: pointer;\n",
              "      display: none;\n",
              "      fill: #1967D2;\n",
              "      height: 32px;\n",
              "      padding: 0 0 0 0;\n",
              "      width: 32px;\n",
              "    }\n",
              "\n",
              "    .colab-df-convert:hover {\n",
              "      background-color: #E2EBFA;\n",
              "      box-shadow: 0px 1px 2px rgba(60, 64, 67, 0.3), 0px 1px 3px 1px rgba(60, 64, 67, 0.15);\n",
              "      fill: #174EA6;\n",
              "    }\n",
              "\n",
              "    .colab-df-buttons div {\n",
              "      margin-bottom: 4px;\n",
              "    }\n",
              "\n",
              "    [theme=dark] .colab-df-convert {\n",
              "      background-color: #3B4455;\n",
              "      fill: #D2E3FC;\n",
              "    }\n",
              "\n",
              "    [theme=dark] .colab-df-convert:hover {\n",
              "      background-color: #434B5C;\n",
              "      box-shadow: 0px 1px 3px 1px rgba(0, 0, 0, 0.15);\n",
              "      filter: drop-shadow(0px 1px 2px rgba(0, 0, 0, 0.3));\n",
              "      fill: #FFFFFF;\n",
              "    }\n",
              "  </style>\n",
              "\n",
              "    <script>\n",
              "      const buttonEl =\n",
              "        document.querySelector('#df-6e2241c0-de60-48e8-90af-f328fa6c1ce6 button.colab-df-convert');\n",
              "      buttonEl.style.display =\n",
              "        google.colab.kernel.accessAllowed ? 'block' : 'none';\n",
              "\n",
              "      async function convertToInteractive(key) {\n",
              "        const element = document.querySelector('#df-6e2241c0-de60-48e8-90af-f328fa6c1ce6');\n",
              "        const dataTable =\n",
              "          await google.colab.kernel.invokeFunction('convertToInteractive',\n",
              "                                                    [key], {});\n",
              "        if (!dataTable) return;\n",
              "\n",
              "        const docLinkHtml = 'Like what you see? Visit the ' +\n",
              "          '<a target=\"_blank\" href=https://colab.research.google.com/notebooks/data_table.ipynb>data table notebook</a>'\n",
              "          + ' to learn more about interactive tables.';\n",
              "        element.innerHTML = '';\n",
              "        dataTable['output_type'] = 'display_data';\n",
              "        await google.colab.output.renderOutput(dataTable, element);\n",
              "        const docLink = document.createElement('div');\n",
              "        docLink.innerHTML = docLinkHtml;\n",
              "        element.appendChild(docLink);\n",
              "      }\n",
              "    </script>\n",
              "  </div>\n",
              "\n",
              "\n",
              "    <div id=\"df-03593328-3916-40bb-bf74-9687eaa0c187\">\n",
              "      <button class=\"colab-df-quickchart\" onclick=\"quickchart('df-03593328-3916-40bb-bf74-9687eaa0c187')\"\n",
              "                title=\"Suggest charts\"\n",
              "                style=\"display:none;\">\n",
              "\n",
              "<svg xmlns=\"http://www.w3.org/2000/svg\" height=\"24px\"viewBox=\"0 0 24 24\"\n",
              "     width=\"24px\">\n",
              "    <g>\n",
              "        <path d=\"M19 3H5c-1.1 0-2 .9-2 2v14c0 1.1.9 2 2 2h14c1.1 0 2-.9 2-2V5c0-1.1-.9-2-2-2zM9 17H7v-7h2v7zm4 0h-2V7h2v10zm4 0h-2v-4h2v4z\"/>\n",
              "    </g>\n",
              "</svg>\n",
              "      </button>\n",
              "\n",
              "<style>\n",
              "  .colab-df-quickchart {\n",
              "      --bg-color: #E8F0FE;\n",
              "      --fill-color: #1967D2;\n",
              "      --hover-bg-color: #E2EBFA;\n",
              "      --hover-fill-color: #174EA6;\n",
              "      --disabled-fill-color: #AAA;\n",
              "      --disabled-bg-color: #DDD;\n",
              "  }\n",
              "\n",
              "  [theme=dark] .colab-df-quickchart {\n",
              "      --bg-color: #3B4455;\n",
              "      --fill-color: #D2E3FC;\n",
              "      --hover-bg-color: #434B5C;\n",
              "      --hover-fill-color: #FFFFFF;\n",
              "      --disabled-bg-color: #3B4455;\n",
              "      --disabled-fill-color: #666;\n",
              "  }\n",
              "\n",
              "  .colab-df-quickchart {\n",
              "    background-color: var(--bg-color);\n",
              "    border: none;\n",
              "    border-radius: 50%;\n",
              "    cursor: pointer;\n",
              "    display: none;\n",
              "    fill: var(--fill-color);\n",
              "    height: 32px;\n",
              "    padding: 0;\n",
              "    width: 32px;\n",
              "  }\n",
              "\n",
              "  .colab-df-quickchart:hover {\n",
              "    background-color: var(--hover-bg-color);\n",
              "    box-shadow: 0 1px 2px rgba(60, 64, 67, 0.3), 0 1px 3px 1px rgba(60, 64, 67, 0.15);\n",
              "    fill: var(--button-hover-fill-color);\n",
              "  }\n",
              "\n",
              "  .colab-df-quickchart-complete:disabled,\n",
              "  .colab-df-quickchart-complete:disabled:hover {\n",
              "    background-color: var(--disabled-bg-color);\n",
              "    fill: var(--disabled-fill-color);\n",
              "    box-shadow: none;\n",
              "  }\n",
              "\n",
              "  .colab-df-spinner {\n",
              "    border: 2px solid var(--fill-color);\n",
              "    border-color: transparent;\n",
              "    border-bottom-color: var(--fill-color);\n",
              "    animation:\n",
              "      spin 1s steps(1) infinite;\n",
              "  }\n",
              "\n",
              "  @keyframes spin {\n",
              "    0% {\n",
              "      border-color: transparent;\n",
              "      border-bottom-color: var(--fill-color);\n",
              "      border-left-color: var(--fill-color);\n",
              "    }\n",
              "    20% {\n",
              "      border-color: transparent;\n",
              "      border-left-color: var(--fill-color);\n",
              "      border-top-color: var(--fill-color);\n",
              "    }\n",
              "    30% {\n",
              "      border-color: transparent;\n",
              "      border-left-color: var(--fill-color);\n",
              "      border-top-color: var(--fill-color);\n",
              "      border-right-color: var(--fill-color);\n",
              "    }\n",
              "    40% {\n",
              "      border-color: transparent;\n",
              "      border-right-color: var(--fill-color);\n",
              "      border-top-color: var(--fill-color);\n",
              "    }\n",
              "    60% {\n",
              "      border-color: transparent;\n",
              "      border-right-color: var(--fill-color);\n",
              "    }\n",
              "    80% {\n",
              "      border-color: transparent;\n",
              "      border-right-color: var(--fill-color);\n",
              "      border-bottom-color: var(--fill-color);\n",
              "    }\n",
              "    90% {\n",
              "      border-color: transparent;\n",
              "      border-bottom-color: var(--fill-color);\n",
              "    }\n",
              "  }\n",
              "</style>\n",
              "\n",
              "      <script>\n",
              "        async function quickchart(key) {\n",
              "          const quickchartButtonEl =\n",
              "            document.querySelector('#' + key + ' button');\n",
              "          quickchartButtonEl.disabled = true;  // To prevent multiple clicks.\n",
              "          quickchartButtonEl.classList.add('colab-df-spinner');\n",
              "          try {\n",
              "            const charts = await google.colab.kernel.invokeFunction(\n",
              "                'suggestCharts', [key], {});\n",
              "          } catch (error) {\n",
              "            console.error('Error during call to suggestCharts:', error);\n",
              "          }\n",
              "          quickchartButtonEl.classList.remove('colab-df-spinner');\n",
              "          quickchartButtonEl.classList.add('colab-df-quickchart-complete');\n",
              "        }\n",
              "        (() => {\n",
              "          let quickchartButtonEl =\n",
              "            document.querySelector('#df-03593328-3916-40bb-bf74-9687eaa0c187 button');\n",
              "          quickchartButtonEl.style.display =\n",
              "            google.colab.kernel.accessAllowed ? 'block' : 'none';\n",
              "        })();\n",
              "      </script>\n",
              "    </div>\n",
              "\n",
              "    </div>\n",
              "  </div>\n"
            ],
            "application/vnd.google.colaboratory.intrinsic+json": {
              "type": "dataframe",
              "variable_name": "df"
            }
          },
          "metadata": {},
          "execution_count": 3
        }
      ]
    },
    {
      "cell_type": "markdown",
      "source": [
        "## Data Preprocessing"
      ],
      "metadata": {
        "id": "JTRlmWH7EyCn"
      }
    },
    {
      "cell_type": "markdown",
      "source": [
        "### Drop Columns"
      ],
      "metadata": {
        "id": "7xPnvAyXE3Lx"
      }
    },
    {
      "cell_type": "code",
      "source": [
        "df.drop('user_id', axis=1, inplace=True) # Just a unique Identifier"
      ],
      "metadata": {
        "id": "E0f0Y6FTEkhU"
      },
      "execution_count": 4,
      "outputs": []
    },
    {
      "cell_type": "code",
      "source": [
        "df.drop('MRG', axis=1, inplace=True) # All data points have the same value"
      ],
      "metadata": {
        "id": "K0zz6akNEric"
      },
      "execution_count": 5,
      "outputs": []
    },
    {
      "cell_type": "markdown",
      "source": [
        "### Transforming Column \"TENURE\" into numerical values"
      ],
      "metadata": {
        "id": "VRjPhYTHEsoE"
      }
    },
    {
      "cell_type": "code",
      "source": [
        "df['TENURE'].value_counts()"
      ],
      "metadata": {
        "colab": {
          "base_uri": "https://localhost:8080/",
          "height": 366
        },
        "id": "IRpMYLqIGKMb",
        "outputId": "4e3a8238-209c-46cd-c67c-50000b4e7e37"
      },
      "execution_count": 6,
      "outputs": [
        {
          "output_type": "execute_result",
          "data": {
            "text/plain": [
              "TENURE\n",
              "K > 24 month     2043201\n",
              "I 18-21 month      45278\n",
              "H 15-18 month      26006\n",
              "G 12-15 month      14901\n",
              "J 21-24 month      12725\n",
              "F 9-12 month        9328\n",
              "E 6-9 month         1839\n",
              "D 3-6 month          770\n",
              "Name: count, dtype: int64"
            ],
            "text/html": [
              "<div>\n",
              "<style scoped>\n",
              "    .dataframe tbody tr th:only-of-type {\n",
              "        vertical-align: middle;\n",
              "    }\n",
              "\n",
              "    .dataframe tbody tr th {\n",
              "        vertical-align: top;\n",
              "    }\n",
              "\n",
              "    .dataframe thead th {\n",
              "        text-align: right;\n",
              "    }\n",
              "</style>\n",
              "<table border=\"1\" class=\"dataframe\">\n",
              "  <thead>\n",
              "    <tr style=\"text-align: right;\">\n",
              "      <th></th>\n",
              "      <th>count</th>\n",
              "    </tr>\n",
              "    <tr>\n",
              "      <th>TENURE</th>\n",
              "      <th></th>\n",
              "    </tr>\n",
              "  </thead>\n",
              "  <tbody>\n",
              "    <tr>\n",
              "      <th>K &gt; 24 month</th>\n",
              "      <td>2043201</td>\n",
              "    </tr>\n",
              "    <tr>\n",
              "      <th>I 18-21 month</th>\n",
              "      <td>45278</td>\n",
              "    </tr>\n",
              "    <tr>\n",
              "      <th>H 15-18 month</th>\n",
              "      <td>26006</td>\n",
              "    </tr>\n",
              "    <tr>\n",
              "      <th>G 12-15 month</th>\n",
              "      <td>14901</td>\n",
              "    </tr>\n",
              "    <tr>\n",
              "      <th>J 21-24 month</th>\n",
              "      <td>12725</td>\n",
              "    </tr>\n",
              "    <tr>\n",
              "      <th>F 9-12 month</th>\n",
              "      <td>9328</td>\n",
              "    </tr>\n",
              "    <tr>\n",
              "      <th>E 6-9 month</th>\n",
              "      <td>1839</td>\n",
              "    </tr>\n",
              "    <tr>\n",
              "      <th>D 3-6 month</th>\n",
              "      <td>770</td>\n",
              "    </tr>\n",
              "  </tbody>\n",
              "</table>\n",
              "</div><br><label><b>dtype:</b> int64</label>"
            ]
          },
          "metadata": {},
          "execution_count": 6
        }
      ]
    },
    {
      "cell_type": "code",
      "source": [
        "mapping_dict = {'K > 24 month': 24, 'I 18-21 month': 18, 'H 15-18 month': 15, 'G 12-15 month': 12, 'J 21-24 month': 21, 'F 9-12 month': 9, 'E 6-9 month': 6, 'D 3-6 month': 3}\n",
        "df['TENURE'] = df[\"TENURE\"].apply(lambda x: mapping_dict[x])"
      ],
      "metadata": {
        "id": "g20LI5QOFH6l"
      },
      "execution_count": 7,
      "outputs": []
    },
    {
      "cell_type": "code",
      "source": [
        "df['TENURE'].value_counts()"
      ],
      "metadata": {
        "colab": {
          "base_uri": "https://localhost:8080/",
          "height": 366
        },
        "id": "tsj6CxGgFQvu",
        "outputId": "af73de49-c2e1-4aad-db63-32a680d836b4"
      },
      "execution_count": 8,
      "outputs": [
        {
          "output_type": "execute_result",
          "data": {
            "text/plain": [
              "TENURE\n",
              "24    2043201\n",
              "18      45278\n",
              "15      26006\n",
              "12      14901\n",
              "21      12725\n",
              "9        9328\n",
              "6        1839\n",
              "3         770\n",
              "Name: count, dtype: int64"
            ],
            "text/html": [
              "<div>\n",
              "<style scoped>\n",
              "    .dataframe tbody tr th:only-of-type {\n",
              "        vertical-align: middle;\n",
              "    }\n",
              "\n",
              "    .dataframe tbody tr th {\n",
              "        vertical-align: top;\n",
              "    }\n",
              "\n",
              "    .dataframe thead th {\n",
              "        text-align: right;\n",
              "    }\n",
              "</style>\n",
              "<table border=\"1\" class=\"dataframe\">\n",
              "  <thead>\n",
              "    <tr style=\"text-align: right;\">\n",
              "      <th></th>\n",
              "      <th>count</th>\n",
              "    </tr>\n",
              "    <tr>\n",
              "      <th>TENURE</th>\n",
              "      <th></th>\n",
              "    </tr>\n",
              "  </thead>\n",
              "  <tbody>\n",
              "    <tr>\n",
              "      <th>24</th>\n",
              "      <td>2043201</td>\n",
              "    </tr>\n",
              "    <tr>\n",
              "      <th>18</th>\n",
              "      <td>45278</td>\n",
              "    </tr>\n",
              "    <tr>\n",
              "      <th>15</th>\n",
              "      <td>26006</td>\n",
              "    </tr>\n",
              "    <tr>\n",
              "      <th>12</th>\n",
              "      <td>14901</td>\n",
              "    </tr>\n",
              "    <tr>\n",
              "      <th>21</th>\n",
              "      <td>12725</td>\n",
              "    </tr>\n",
              "    <tr>\n",
              "      <th>9</th>\n",
              "      <td>9328</td>\n",
              "    </tr>\n",
              "    <tr>\n",
              "      <th>6</th>\n",
              "      <td>1839</td>\n",
              "    </tr>\n",
              "    <tr>\n",
              "      <th>3</th>\n",
              "      <td>770</td>\n",
              "    </tr>\n",
              "  </tbody>\n",
              "</table>\n",
              "</div><br><label><b>dtype:</b> int64</label>"
            ]
          },
          "metadata": {},
          "execution_count": 8
        }
      ]
    },
    {
      "cell_type": "markdown",
      "source": [
        "### New Column unlimited_pack"
      ],
      "metadata": {
        "id": "_iQUGPyEGJGW"
      }
    },
    {
      "cell_type": "markdown",
      "source": [
        "1: \"TOP_PACK\" Contains the substring \"unlimited\"\n",
        "\n",
        "0: Otherwise"
      ],
      "metadata": {
        "id": "0Mq8SWLGIB7r"
      }
    },
    {
      "cell_type": "code",
      "source": [
        "df['unlimited_pack'] = 0\n",
        "df.loc[df['TOP_PACK'].str.contains(\"unlimited\", case=False, na=False), 'unlimited_pack'] = 1"
      ],
      "metadata": {
        "id": "0hctXiYnGVKt"
      },
      "execution_count": 9,
      "outputs": []
    },
    {
      "cell_type": "code",
      "source": [
        "df[['unlimited_pack', \"CHURN\"]].corr()[\"CHURN\"]"
      ],
      "metadata": {
        "colab": {
          "base_uri": "https://localhost:8080/",
          "height": 147
        },
        "id": "uesqVPHMGa-j",
        "outputId": "cddbfd1b-7b70-4203-8c3f-dbd688f6ee29"
      },
      "execution_count": 10,
      "outputs": [
        {
          "output_type": "execute_result",
          "data": {
            "text/plain": [
              "unlimited_pack   -0.161632\n",
              "CHURN             1.000000\n",
              "Name: CHURN, dtype: float64"
            ],
            "text/html": [
              "<div>\n",
              "<style scoped>\n",
              "    .dataframe tbody tr th:only-of-type {\n",
              "        vertical-align: middle;\n",
              "    }\n",
              "\n",
              "    .dataframe tbody tr th {\n",
              "        vertical-align: top;\n",
              "    }\n",
              "\n",
              "    .dataframe thead th {\n",
              "        text-align: right;\n",
              "    }\n",
              "</style>\n",
              "<table border=\"1\" class=\"dataframe\">\n",
              "  <thead>\n",
              "    <tr style=\"text-align: right;\">\n",
              "      <th></th>\n",
              "      <th>CHURN</th>\n",
              "    </tr>\n",
              "  </thead>\n",
              "  <tbody>\n",
              "    <tr>\n",
              "      <th>unlimited_pack</th>\n",
              "      <td>-0.161632</td>\n",
              "    </tr>\n",
              "    <tr>\n",
              "      <th>CHURN</th>\n",
              "      <td>1.000000</td>\n",
              "    </tr>\n",
              "  </tbody>\n",
              "</table>\n",
              "</div><br><label><b>dtype:</b> float64</label>"
            ]
          },
          "metadata": {},
          "execution_count": 10
        }
      ]
    },
    {
      "cell_type": "markdown",
      "source": [
        "## New Column popular_pack"
      ],
      "metadata": {
        "id": "UYvk9Bq4G631"
      }
    },
    {
      "cell_type": "markdown",
      "source": [
        "0: first quartile (x < 25)\n",
        "\n",
        "1: second quartile (25 < x < 50)\n",
        "\n",
        "2: third quartile (50 < x < 75)\n",
        "\n",
        "3: fourth quartile (75 < x)\n",
        "\n",
        "**Quartiles** of the value_counts of TOP_PACK column\n",
        "\n",
        "We expect users of popular packages  "
      ],
      "metadata": {
        "id": "BgSB6fjZH_L0"
      }
    },
    {
      "cell_type": "code",
      "source": [
        "df['TOP_PACK'].value_counts().describe()"
      ],
      "metadata": {
        "colab": {
          "base_uri": "https://localhost:8080/",
          "height": 335
        },
        "id": "5EMdMU_0H1XN",
        "outputId": "00eb6759-cc7f-4082-d826-c5bc50dc1435"
      },
      "execution_count": 11,
      "outputs": [
        {
          "output_type": "execute_result",
          "data": {
            "text/plain": [
              "count       140.000000\n",
              "mean       8938.957143\n",
              "std       33491.194518\n",
              "min           1.000000\n",
              "25%           4.500000\n",
              "50%         112.000000\n",
              "75%        1355.500000\n",
              "max      317802.000000\n",
              "Name: count, dtype: float64"
            ],
            "text/html": [
              "<div>\n",
              "<style scoped>\n",
              "    .dataframe tbody tr th:only-of-type {\n",
              "        vertical-align: middle;\n",
              "    }\n",
              "\n",
              "    .dataframe tbody tr th {\n",
              "        vertical-align: top;\n",
              "    }\n",
              "\n",
              "    .dataframe thead th {\n",
              "        text-align: right;\n",
              "    }\n",
              "</style>\n",
              "<table border=\"1\" class=\"dataframe\">\n",
              "  <thead>\n",
              "    <tr style=\"text-align: right;\">\n",
              "      <th></th>\n",
              "      <th>count</th>\n",
              "    </tr>\n",
              "  </thead>\n",
              "  <tbody>\n",
              "    <tr>\n",
              "      <th>count</th>\n",
              "      <td>140.000000</td>\n",
              "    </tr>\n",
              "    <tr>\n",
              "      <th>mean</th>\n",
              "      <td>8938.957143</td>\n",
              "    </tr>\n",
              "    <tr>\n",
              "      <th>std</th>\n",
              "      <td>33491.194518</td>\n",
              "    </tr>\n",
              "    <tr>\n",
              "      <th>min</th>\n",
              "      <td>1.000000</td>\n",
              "    </tr>\n",
              "    <tr>\n",
              "      <th>25%</th>\n",
              "      <td>4.500000</td>\n",
              "    </tr>\n",
              "    <tr>\n",
              "      <th>50%</th>\n",
              "      <td>112.000000</td>\n",
              "    </tr>\n",
              "    <tr>\n",
              "      <th>75%</th>\n",
              "      <td>1355.500000</td>\n",
              "    </tr>\n",
              "    <tr>\n",
              "      <th>max</th>\n",
              "      <td>317802.000000</td>\n",
              "    </tr>\n",
              "  </tbody>\n",
              "</table>\n",
              "</div><br><label><b>dtype:</b> float64</label>"
            ]
          },
          "metadata": {},
          "execution_count": 11
        }
      ]
    },
    {
      "cell_type": "code",
      "source": [
        "low = df['TOP_PACK'].value_counts().describe()[\"25%\"]\n",
        "mid = df['TOP_PACK'].value_counts().describe()[\"50%\"]\n",
        "high = df['TOP_PACK'].value_counts().describe()[\"75%\"]\n",
        "\n",
        "val_counts = df['TOP_PACK'].value_counts()\n",
        "\n",
        "def pack_pop(pack):\n",
        "  if pack is np.nan:\n",
        "    return -1\n",
        "\n",
        "  val = val_counts[pack]\n",
        "\n",
        "  if val < low:\n",
        "    return 1\n",
        "  elif val < mid:\n",
        "    return 2\n",
        "  elif val < high:\n",
        "    return 3\n",
        "  else:\n",
        "    return 4\n",
        "\n",
        "df[\"PACK_POP\"] = df['TOP_PACK'].apply(pack_pop)"
      ],
      "metadata": {
        "id": "v2eCkoavH29U"
      },
      "execution_count": 12,
      "outputs": []
    },
    {
      "cell_type": "code",
      "source": [
        "df[[\"PACK_POP\", \"CHURN\"]].corr()[\"CHURN\"]"
      ],
      "metadata": {
        "colab": {
          "base_uri": "https://localhost:8080/",
          "height": 147
        },
        "id": "UpfKAsxK9uQd",
        "outputId": "4060a3cc-8a5e-4056-baa7-11368e72e902"
      },
      "execution_count": 13,
      "outputs": [
        {
          "output_type": "execute_result",
          "data": {
            "text/plain": [
              "PACK_POP   -0.444462\n",
              "CHURN       1.000000\n",
              "Name: CHURN, dtype: float64"
            ],
            "text/html": [
              "<div>\n",
              "<style scoped>\n",
              "    .dataframe tbody tr th:only-of-type {\n",
              "        vertical-align: middle;\n",
              "    }\n",
              "\n",
              "    .dataframe tbody tr th {\n",
              "        vertical-align: top;\n",
              "    }\n",
              "\n",
              "    .dataframe thead th {\n",
              "        text-align: right;\n",
              "    }\n",
              "</style>\n",
              "<table border=\"1\" class=\"dataframe\">\n",
              "  <thead>\n",
              "    <tr style=\"text-align: right;\">\n",
              "      <th></th>\n",
              "      <th>CHURN</th>\n",
              "    </tr>\n",
              "  </thead>\n",
              "  <tbody>\n",
              "    <tr>\n",
              "      <th>PACK_POP</th>\n",
              "      <td>-0.444462</td>\n",
              "    </tr>\n",
              "    <tr>\n",
              "      <th>CHURN</th>\n",
              "      <td>1.000000</td>\n",
              "    </tr>\n",
              "  </tbody>\n",
              "</table>\n",
              "</div><br><label><b>dtype:</b> float64</label>"
            ]
          },
          "metadata": {},
          "execution_count": 13
        }
      ]
    },
    {
      "cell_type": "markdown",
      "source": [
        "### NA>=10 Column"
      ],
      "metadata": {
        "id": "unykHZc6_B55"
      }
    },
    {
      "cell_type": "code",
      "source": [
        "df[df['CHURN'] == 1].shape[0] / len(df)"
      ],
      "metadata": {
        "colab": {
          "base_uri": "https://localhost:8080/"
        },
        "id": "ajquxL6_AQbs",
        "outputId": "54bcca2b-f4a8-4aab-f042-0167bdb99944"
      },
      "execution_count": 14,
      "outputs": [
        {
          "output_type": "execute_result",
          "data": {
            "text/plain": [
              "0.1875473527052322"
            ]
          },
          "metadata": {},
          "execution_count": 14
        }
      ]
    },
    {
      "cell_type": "code",
      "source": [
        "val_counts = df[df.isna().sum(axis=1) >= 10]['CHURN'].value_counts()\n",
        "val_counts[1] / (val_counts[0] + val_counts[1])"
      ],
      "metadata": {
        "colab": {
          "base_uri": "https://localhost:8080/"
        },
        "id": "8GvqEIGXATok",
        "outputId": "09a99e0b-5703-49f7-d70b-18ef2a87e05f"
      },
      "execution_count": 15,
      "outputs": [
        {
          "output_type": "execute_result",
          "data": {
            "text/plain": [
              "np.float64(0.4525901246103)"
            ]
          },
          "metadata": {},
          "execution_count": 15
        }
      ]
    },
    {
      "cell_type": "code",
      "source": [
        "df['NA>=10'] = False\n",
        "df.loc[df.isna().sum(axis=1) >= 10, 'NA>=10'] = True"
      ],
      "metadata": {
        "id": "08zqubSEDWNO"
      },
      "execution_count": 16,
      "outputs": []
    },
    {
      "cell_type": "code",
      "source": [
        "df[['NA>=10', 'CHURN']].corr()[\"CHURN\"]"
      ],
      "metadata": {
        "colab": {
          "base_uri": "https://localhost:8080/",
          "height": 147
        },
        "id": "YmibZ4rZG5i2",
        "outputId": "52f0bba2-9d77-41af-9831-cbd505d117f5"
      },
      "execution_count": 17,
      "outputs": [
        {
          "output_type": "execute_result",
          "data": {
            "text/plain": [
              "NA>=10    0.494754\n",
              "CHURN     1.000000\n",
              "Name: CHURN, dtype: float64"
            ],
            "text/html": [
              "<div>\n",
              "<style scoped>\n",
              "    .dataframe tbody tr th:only-of-type {\n",
              "        vertical-align: middle;\n",
              "    }\n",
              "\n",
              "    .dataframe tbody tr th {\n",
              "        vertical-align: top;\n",
              "    }\n",
              "\n",
              "    .dataframe thead th {\n",
              "        text-align: right;\n",
              "    }\n",
              "</style>\n",
              "<table border=\"1\" class=\"dataframe\">\n",
              "  <thead>\n",
              "    <tr style=\"text-align: right;\">\n",
              "      <th></th>\n",
              "      <th>CHURN</th>\n",
              "    </tr>\n",
              "  </thead>\n",
              "  <tbody>\n",
              "    <tr>\n",
              "      <th>NA&gt;=10</th>\n",
              "      <td>0.494754</td>\n",
              "    </tr>\n",
              "    <tr>\n",
              "      <th>CHURN</th>\n",
              "      <td>1.000000</td>\n",
              "    </tr>\n",
              "  </tbody>\n",
              "</table>\n",
              "</div><br><label><b>dtype:</b> float64</label>"
            ]
          },
          "metadata": {},
          "execution_count": 17
        }
      ]
    },
    {
      "cell_type": "code",
      "source": [
        "df.drop(\"NA>=10\", axis=1, inplace=True)"
      ],
      "metadata": {
        "id": "7v8Is2hR3esC"
      },
      "execution_count": 18,
      "outputs": []
    },
    {
      "cell_type": "markdown",
      "source": [
        "## Null Value_counts"
      ],
      "metadata": {
        "id": "SuBDIcyxLlXK"
      }
    },
    {
      "cell_type": "code",
      "source": [
        "df[\"NULL_COUNTS\"] = df.isna().sum(axis=1)"
      ],
      "metadata": {
        "id": "1tsg4BTCL5z-"
      },
      "execution_count": 19,
      "outputs": []
    },
    {
      "cell_type": "code",
      "source": [
        "df[[\"NULL_COUNTS\", \"CHURN\"]].corr()['CHURN']"
      ],
      "metadata": {
        "colab": {
          "base_uri": "https://localhost:8080/",
          "height": 147
        },
        "id": "PVcAxU0aMJ_Z",
        "outputId": "dfdd0327-03bf-4b47-e7de-59a247189780"
      },
      "execution_count": 20,
      "outputs": [
        {
          "output_type": "execute_result",
          "data": {
            "text/plain": [
              "NULL_COUNTS    0.530775\n",
              "CHURN          1.000000\n",
              "Name: CHURN, dtype: float64"
            ],
            "text/html": [
              "<div>\n",
              "<style scoped>\n",
              "    .dataframe tbody tr th:only-of-type {\n",
              "        vertical-align: middle;\n",
              "    }\n",
              "\n",
              "    .dataframe tbody tr th {\n",
              "        vertical-align: top;\n",
              "    }\n",
              "\n",
              "    .dataframe thead th {\n",
              "        text-align: right;\n",
              "    }\n",
              "</style>\n",
              "<table border=\"1\" class=\"dataframe\">\n",
              "  <thead>\n",
              "    <tr style=\"text-align: right;\">\n",
              "      <th></th>\n",
              "      <th>CHURN</th>\n",
              "    </tr>\n",
              "  </thead>\n",
              "  <tbody>\n",
              "    <tr>\n",
              "      <th>NULL_COUNTS</th>\n",
              "      <td>0.530775</td>\n",
              "    </tr>\n",
              "    <tr>\n",
              "      <th>CHURN</th>\n",
              "      <td>1.000000</td>\n",
              "    </tr>\n",
              "  </tbody>\n",
              "</table>\n",
              "</div><br><label><b>dtype:</b> float64</label>"
            ]
          },
          "metadata": {},
          "execution_count": 20
        }
      ]
    },
    {
      "cell_type": "code",
      "source": [
        "df.head()"
      ],
      "metadata": {
        "id": "pT__fdy2MbQj",
        "colab": {
          "base_uri": "https://localhost:8080/",
          "height": 278
        },
        "outputId": "00b826d8-2a61-486f-ab12-4ff4171a20af"
      },
      "execution_count": 21,
      "outputs": [
        {
          "output_type": "execute_result",
          "data": {
            "text/plain": [
              "   REGION  TENURE  MONTANT  FREQUENCE_RECH  REVENUE  ARPU_SEGMENT  FREQUENCE  \\\n",
              "0  FATICK      24   4250.0            15.0   4251.0        1417.0       17.0   \n",
              "1     NaN      18      NaN             NaN      NaN           NaN        NaN   \n",
              "2     NaN      24   3600.0             2.0   1020.0         340.0        2.0   \n",
              "3   DAKAR      24  13500.0            15.0  13502.0        4501.0       18.0   \n",
              "4   DAKAR      24   1000.0             1.0    985.0         328.0        1.0   \n",
              "\n",
              "   DATA_VOLUME  ON_NET  ORANGE  TIGO  ZONE1  ZONE2  REGULARITY  \\\n",
              "0          4.0   388.0    46.0   1.0    1.0    2.0          54   \n",
              "1          NaN     NaN     NaN   NaN    NaN    NaN           4   \n",
              "2          NaN    90.0    46.0   7.0    NaN    NaN          17   \n",
              "3      43804.0    41.0   102.0   2.0    NaN    NaN          62   \n",
              "4          NaN    39.0    24.0   NaN    NaN    NaN          11   \n",
              "\n",
              "                         TOP_PACK  FREQ_TOP_PACK  CHURN  unlimited_pack  \\\n",
              "0  On net 200F=Unlimited _call24H            8.0      0               1   \n",
              "1                             NaN            NaN      1               0   \n",
              "2         On-net 1000F=10MilF;10d            1.0      0               0   \n",
              "3               Data:1000F=5GB,7d           11.0      0               0   \n",
              "4     Mixt 250F=Unlimited_call24H            2.0      0               1   \n",
              "\n",
              "   PACK_POP  NULL_COUNTS  \n",
              "0         4            0  \n",
              "1        -1           14  \n",
              "2         4            4  \n",
              "3         4            2  \n",
              "4         4            4  "
            ],
            "text/html": [
              "\n",
              "  <div id=\"df-8dccfabe-b0ed-419d-af76-e679c704e3b6\" class=\"colab-df-container\">\n",
              "    <div>\n",
              "<style scoped>\n",
              "    .dataframe tbody tr th:only-of-type {\n",
              "        vertical-align: middle;\n",
              "    }\n",
              "\n",
              "    .dataframe tbody tr th {\n",
              "        vertical-align: top;\n",
              "    }\n",
              "\n",
              "    .dataframe thead th {\n",
              "        text-align: right;\n",
              "    }\n",
              "</style>\n",
              "<table border=\"1\" class=\"dataframe\">\n",
              "  <thead>\n",
              "    <tr style=\"text-align: right;\">\n",
              "      <th></th>\n",
              "      <th>REGION</th>\n",
              "      <th>TENURE</th>\n",
              "      <th>MONTANT</th>\n",
              "      <th>FREQUENCE_RECH</th>\n",
              "      <th>REVENUE</th>\n",
              "      <th>ARPU_SEGMENT</th>\n",
              "      <th>FREQUENCE</th>\n",
              "      <th>DATA_VOLUME</th>\n",
              "      <th>ON_NET</th>\n",
              "      <th>ORANGE</th>\n",
              "      <th>TIGO</th>\n",
              "      <th>ZONE1</th>\n",
              "      <th>ZONE2</th>\n",
              "      <th>REGULARITY</th>\n",
              "      <th>TOP_PACK</th>\n",
              "      <th>FREQ_TOP_PACK</th>\n",
              "      <th>CHURN</th>\n",
              "      <th>unlimited_pack</th>\n",
              "      <th>PACK_POP</th>\n",
              "      <th>NULL_COUNTS</th>\n",
              "    </tr>\n",
              "  </thead>\n",
              "  <tbody>\n",
              "    <tr>\n",
              "      <th>0</th>\n",
              "      <td>FATICK</td>\n",
              "      <td>24</td>\n",
              "      <td>4250.0</td>\n",
              "      <td>15.0</td>\n",
              "      <td>4251.0</td>\n",
              "      <td>1417.0</td>\n",
              "      <td>17.0</td>\n",
              "      <td>4.0</td>\n",
              "      <td>388.0</td>\n",
              "      <td>46.0</td>\n",
              "      <td>1.0</td>\n",
              "      <td>1.0</td>\n",
              "      <td>2.0</td>\n",
              "      <td>54</td>\n",
              "      <td>On net 200F=Unlimited _call24H</td>\n",
              "      <td>8.0</td>\n",
              "      <td>0</td>\n",
              "      <td>1</td>\n",
              "      <td>4</td>\n",
              "      <td>0</td>\n",
              "    </tr>\n",
              "    <tr>\n",
              "      <th>1</th>\n",
              "      <td>NaN</td>\n",
              "      <td>18</td>\n",
              "      <td>NaN</td>\n",
              "      <td>NaN</td>\n",
              "      <td>NaN</td>\n",
              "      <td>NaN</td>\n",
              "      <td>NaN</td>\n",
              "      <td>NaN</td>\n",
              "      <td>NaN</td>\n",
              "      <td>NaN</td>\n",
              "      <td>NaN</td>\n",
              "      <td>NaN</td>\n",
              "      <td>NaN</td>\n",
              "      <td>4</td>\n",
              "      <td>NaN</td>\n",
              "      <td>NaN</td>\n",
              "      <td>1</td>\n",
              "      <td>0</td>\n",
              "      <td>-1</td>\n",
              "      <td>14</td>\n",
              "    </tr>\n",
              "    <tr>\n",
              "      <th>2</th>\n",
              "      <td>NaN</td>\n",
              "      <td>24</td>\n",
              "      <td>3600.0</td>\n",
              "      <td>2.0</td>\n",
              "      <td>1020.0</td>\n",
              "      <td>340.0</td>\n",
              "      <td>2.0</td>\n",
              "      <td>NaN</td>\n",
              "      <td>90.0</td>\n",
              "      <td>46.0</td>\n",
              "      <td>7.0</td>\n",
              "      <td>NaN</td>\n",
              "      <td>NaN</td>\n",
              "      <td>17</td>\n",
              "      <td>On-net 1000F=10MilF;10d</td>\n",
              "      <td>1.0</td>\n",
              "      <td>0</td>\n",
              "      <td>0</td>\n",
              "      <td>4</td>\n",
              "      <td>4</td>\n",
              "    </tr>\n",
              "    <tr>\n",
              "      <th>3</th>\n",
              "      <td>DAKAR</td>\n",
              "      <td>24</td>\n",
              "      <td>13500.0</td>\n",
              "      <td>15.0</td>\n",
              "      <td>13502.0</td>\n",
              "      <td>4501.0</td>\n",
              "      <td>18.0</td>\n",
              "      <td>43804.0</td>\n",
              "      <td>41.0</td>\n",
              "      <td>102.0</td>\n",
              "      <td>2.0</td>\n",
              "      <td>NaN</td>\n",
              "      <td>NaN</td>\n",
              "      <td>62</td>\n",
              "      <td>Data:1000F=5GB,7d</td>\n",
              "      <td>11.0</td>\n",
              "      <td>0</td>\n",
              "      <td>0</td>\n",
              "      <td>4</td>\n",
              "      <td>2</td>\n",
              "    </tr>\n",
              "    <tr>\n",
              "      <th>4</th>\n",
              "      <td>DAKAR</td>\n",
              "      <td>24</td>\n",
              "      <td>1000.0</td>\n",
              "      <td>1.0</td>\n",
              "      <td>985.0</td>\n",
              "      <td>328.0</td>\n",
              "      <td>1.0</td>\n",
              "      <td>NaN</td>\n",
              "      <td>39.0</td>\n",
              "      <td>24.0</td>\n",
              "      <td>NaN</td>\n",
              "      <td>NaN</td>\n",
              "      <td>NaN</td>\n",
              "      <td>11</td>\n",
              "      <td>Mixt 250F=Unlimited_call24H</td>\n",
              "      <td>2.0</td>\n",
              "      <td>0</td>\n",
              "      <td>1</td>\n",
              "      <td>4</td>\n",
              "      <td>4</td>\n",
              "    </tr>\n",
              "  </tbody>\n",
              "</table>\n",
              "</div>\n",
              "    <div class=\"colab-df-buttons\">\n",
              "\n",
              "  <div class=\"colab-df-container\">\n",
              "    <button class=\"colab-df-convert\" onclick=\"convertToInteractive('df-8dccfabe-b0ed-419d-af76-e679c704e3b6')\"\n",
              "            title=\"Convert this dataframe to an interactive table.\"\n",
              "            style=\"display:none;\">\n",
              "\n",
              "  <svg xmlns=\"http://www.w3.org/2000/svg\" height=\"24px\" viewBox=\"0 -960 960 960\">\n",
              "    <path d=\"M120-120v-720h720v720H120Zm60-500h600v-160H180v160Zm220 220h160v-160H400v160Zm0 220h160v-160H400v160ZM180-400h160v-160H180v160Zm440 0h160v-160H620v160ZM180-180h160v-160H180v160Zm440 0h160v-160H620v160Z\"/>\n",
              "  </svg>\n",
              "    </button>\n",
              "\n",
              "  <style>\n",
              "    .colab-df-container {\n",
              "      display:flex;\n",
              "      gap: 12px;\n",
              "    }\n",
              "\n",
              "    .colab-df-convert {\n",
              "      background-color: #E8F0FE;\n",
              "      border: none;\n",
              "      border-radius: 50%;\n",
              "      cursor: pointer;\n",
              "      display: none;\n",
              "      fill: #1967D2;\n",
              "      height: 32px;\n",
              "      padding: 0 0 0 0;\n",
              "      width: 32px;\n",
              "    }\n",
              "\n",
              "    .colab-df-convert:hover {\n",
              "      background-color: #E2EBFA;\n",
              "      box-shadow: 0px 1px 2px rgba(60, 64, 67, 0.3), 0px 1px 3px 1px rgba(60, 64, 67, 0.15);\n",
              "      fill: #174EA6;\n",
              "    }\n",
              "\n",
              "    .colab-df-buttons div {\n",
              "      margin-bottom: 4px;\n",
              "    }\n",
              "\n",
              "    [theme=dark] .colab-df-convert {\n",
              "      background-color: #3B4455;\n",
              "      fill: #D2E3FC;\n",
              "    }\n",
              "\n",
              "    [theme=dark] .colab-df-convert:hover {\n",
              "      background-color: #434B5C;\n",
              "      box-shadow: 0px 1px 3px 1px rgba(0, 0, 0, 0.15);\n",
              "      filter: drop-shadow(0px 1px 2px rgba(0, 0, 0, 0.3));\n",
              "      fill: #FFFFFF;\n",
              "    }\n",
              "  </style>\n",
              "\n",
              "    <script>\n",
              "      const buttonEl =\n",
              "        document.querySelector('#df-8dccfabe-b0ed-419d-af76-e679c704e3b6 button.colab-df-convert');\n",
              "      buttonEl.style.display =\n",
              "        google.colab.kernel.accessAllowed ? 'block' : 'none';\n",
              "\n",
              "      async function convertToInteractive(key) {\n",
              "        const element = document.querySelector('#df-8dccfabe-b0ed-419d-af76-e679c704e3b6');\n",
              "        const dataTable =\n",
              "          await google.colab.kernel.invokeFunction('convertToInteractive',\n",
              "                                                    [key], {});\n",
              "        if (!dataTable) return;\n",
              "\n",
              "        const docLinkHtml = 'Like what you see? Visit the ' +\n",
              "          '<a target=\"_blank\" href=https://colab.research.google.com/notebooks/data_table.ipynb>data table notebook</a>'\n",
              "          + ' to learn more about interactive tables.';\n",
              "        element.innerHTML = '';\n",
              "        dataTable['output_type'] = 'display_data';\n",
              "        await google.colab.output.renderOutput(dataTable, element);\n",
              "        const docLink = document.createElement('div');\n",
              "        docLink.innerHTML = docLinkHtml;\n",
              "        element.appendChild(docLink);\n",
              "      }\n",
              "    </script>\n",
              "  </div>\n",
              "\n",
              "\n",
              "    <div id=\"df-18c83670-66ff-4399-bf5e-9a2ba0a8646a\">\n",
              "      <button class=\"colab-df-quickchart\" onclick=\"quickchart('df-18c83670-66ff-4399-bf5e-9a2ba0a8646a')\"\n",
              "                title=\"Suggest charts\"\n",
              "                style=\"display:none;\">\n",
              "\n",
              "<svg xmlns=\"http://www.w3.org/2000/svg\" height=\"24px\"viewBox=\"0 0 24 24\"\n",
              "     width=\"24px\">\n",
              "    <g>\n",
              "        <path d=\"M19 3H5c-1.1 0-2 .9-2 2v14c0 1.1.9 2 2 2h14c1.1 0 2-.9 2-2V5c0-1.1-.9-2-2-2zM9 17H7v-7h2v7zm4 0h-2V7h2v10zm4 0h-2v-4h2v4z\"/>\n",
              "    </g>\n",
              "</svg>\n",
              "      </button>\n",
              "\n",
              "<style>\n",
              "  .colab-df-quickchart {\n",
              "      --bg-color: #E8F0FE;\n",
              "      --fill-color: #1967D2;\n",
              "      --hover-bg-color: #E2EBFA;\n",
              "      --hover-fill-color: #174EA6;\n",
              "      --disabled-fill-color: #AAA;\n",
              "      --disabled-bg-color: #DDD;\n",
              "  }\n",
              "\n",
              "  [theme=dark] .colab-df-quickchart {\n",
              "      --bg-color: #3B4455;\n",
              "      --fill-color: #D2E3FC;\n",
              "      --hover-bg-color: #434B5C;\n",
              "      --hover-fill-color: #FFFFFF;\n",
              "      --disabled-bg-color: #3B4455;\n",
              "      --disabled-fill-color: #666;\n",
              "  }\n",
              "\n",
              "  .colab-df-quickchart {\n",
              "    background-color: var(--bg-color);\n",
              "    border: none;\n",
              "    border-radius: 50%;\n",
              "    cursor: pointer;\n",
              "    display: none;\n",
              "    fill: var(--fill-color);\n",
              "    height: 32px;\n",
              "    padding: 0;\n",
              "    width: 32px;\n",
              "  }\n",
              "\n",
              "  .colab-df-quickchart:hover {\n",
              "    background-color: var(--hover-bg-color);\n",
              "    box-shadow: 0 1px 2px rgba(60, 64, 67, 0.3), 0 1px 3px 1px rgba(60, 64, 67, 0.15);\n",
              "    fill: var(--button-hover-fill-color);\n",
              "  }\n",
              "\n",
              "  .colab-df-quickchart-complete:disabled,\n",
              "  .colab-df-quickchart-complete:disabled:hover {\n",
              "    background-color: var(--disabled-bg-color);\n",
              "    fill: var(--disabled-fill-color);\n",
              "    box-shadow: none;\n",
              "  }\n",
              "\n",
              "  .colab-df-spinner {\n",
              "    border: 2px solid var(--fill-color);\n",
              "    border-color: transparent;\n",
              "    border-bottom-color: var(--fill-color);\n",
              "    animation:\n",
              "      spin 1s steps(1) infinite;\n",
              "  }\n",
              "\n",
              "  @keyframes spin {\n",
              "    0% {\n",
              "      border-color: transparent;\n",
              "      border-bottom-color: var(--fill-color);\n",
              "      border-left-color: var(--fill-color);\n",
              "    }\n",
              "    20% {\n",
              "      border-color: transparent;\n",
              "      border-left-color: var(--fill-color);\n",
              "      border-top-color: var(--fill-color);\n",
              "    }\n",
              "    30% {\n",
              "      border-color: transparent;\n",
              "      border-left-color: var(--fill-color);\n",
              "      border-top-color: var(--fill-color);\n",
              "      border-right-color: var(--fill-color);\n",
              "    }\n",
              "    40% {\n",
              "      border-color: transparent;\n",
              "      border-right-color: var(--fill-color);\n",
              "      border-top-color: var(--fill-color);\n",
              "    }\n",
              "    60% {\n",
              "      border-color: transparent;\n",
              "      border-right-color: var(--fill-color);\n",
              "    }\n",
              "    80% {\n",
              "      border-color: transparent;\n",
              "      border-right-color: var(--fill-color);\n",
              "      border-bottom-color: var(--fill-color);\n",
              "    }\n",
              "    90% {\n",
              "      border-color: transparent;\n",
              "      border-bottom-color: var(--fill-color);\n",
              "    }\n",
              "  }\n",
              "</style>\n",
              "\n",
              "      <script>\n",
              "        async function quickchart(key) {\n",
              "          const quickchartButtonEl =\n",
              "            document.querySelector('#' + key + ' button');\n",
              "          quickchartButtonEl.disabled = true;  // To prevent multiple clicks.\n",
              "          quickchartButtonEl.classList.add('colab-df-spinner');\n",
              "          try {\n",
              "            const charts = await google.colab.kernel.invokeFunction(\n",
              "                'suggestCharts', [key], {});\n",
              "          } catch (error) {\n",
              "            console.error('Error during call to suggestCharts:', error);\n",
              "          }\n",
              "          quickchartButtonEl.classList.remove('colab-df-spinner');\n",
              "          quickchartButtonEl.classList.add('colab-df-quickchart-complete');\n",
              "        }\n",
              "        (() => {\n",
              "          let quickchartButtonEl =\n",
              "            document.querySelector('#df-18c83670-66ff-4399-bf5e-9a2ba0a8646a button');\n",
              "          quickchartButtonEl.style.display =\n",
              "            google.colab.kernel.accessAllowed ? 'block' : 'none';\n",
              "        })();\n",
              "      </script>\n",
              "    </div>\n",
              "\n",
              "    </div>\n",
              "  </div>\n"
            ],
            "application/vnd.google.colaboratory.intrinsic+json": {
              "type": "dataframe",
              "variable_name": "df"
            }
          },
          "metadata": {},
          "execution_count": 21
        }
      ]
    },
    {
      "cell_type": "markdown",
      "source": [
        "### Numerical Feature Brute Forcing"
      ],
      "metadata": {
        "id": "V5E2tBSj3Zaj"
      }
    },
    {
      "cell_type": "markdown",
      "source": [
        "1. Log transform of each numerical feature\n",
        "2. Region-Wise feature means of all numerical features\n",
        "3. Interaction(+, -, *, /) between *High Importance Features*"
      ],
      "metadata": {
        "id": "7I4gTzkhFJnj"
      }
    },
    {
      "cell_type": "code",
      "source": [
        "# Numerical Features with highest feature importance (XgBoost)\n",
        "num_features_high = ['REGULARITY', 'REVENUE', 'ARPU_SEGMENT', 'FREQUENCE_RECH', 'MONTANT', 'ON_NET']\n",
        "num_features_all = df.select_dtypes(include=[\"number\"]).columns.tolist()\n",
        "num_features_all.remove(\"CHURN\")"
      ],
      "metadata": {
        "id": "9lMaOCgH55Xz"
      },
      "execution_count": 22,
      "outputs": []
    },
    {
      "cell_type": "code",
      "source": [
        "def brute_force_features(df, feature_list_all, feature_list_high):\n",
        "  data = df.copy()\n",
        "  n = len(feature_list_high)\n",
        "  epsilon = 1e-6\n",
        "\n",
        "  # Grouping by Region\n",
        "  region_groups = data[feature_list_all + ['REGION']].groupby(\"REGION\").mean()\n",
        "  for feature in feature_list_all:\n",
        "    feature_name = \"REGION_MEAN_\" + feature\n",
        "    region_groups[feature_name] = region_groups[feature]\n",
        "    region_groups.drop(feature, axis=1, inplace=True)\n",
        "\n",
        "  data = pd.merge(data, region_groups, on='REGION', how='left')\n",
        "\n",
        "\n",
        "  # log features\n",
        "  for feature in feature_list_all:\n",
        "    feature_name = 'log(' + feature + \")\"\n",
        "    data[feature_name] = np.log(data[feature] + epsilon)\n",
        "\n",
        "  # Cross Features\n",
        "  for i in range(n-1):\n",
        "    for j in range(i+1, n):\n",
        "      feature_add = feature_list_high[i] + \"+\" + feature_list_high[j]\n",
        "      feature_sub = feature_list_high[i] + \"-\" + feature_list_high[j]\n",
        "      feature_mult = feature_list_high[i] + \"*\" + feature_list_high[j]\n",
        "      feature_div = feature_list_high[i] + \"/\" + feature_list_high[j]\n",
        "\n",
        "      data[feature_add] = data[feature_list_high[i]] + data[feature_list_high[j]]\n",
        "      data[feature_sub] = data[feature_list_high[i]] - data[feature_list_high[j]]\n",
        "      data[feature_mult] = data[feature_list_high[i]] * data[feature_list_high[j]]\n",
        "      data[feature_div] = data[feature_list_high[i]] / (data[feature_list_high[j]] + epsilon)\n",
        "\n",
        "\n",
        "\n",
        "  return data\n"
      ],
      "metadata": {
        "id": "t5ngocZ_6FFB"
      },
      "execution_count": 23,
      "outputs": []
    },
    {
      "cell_type": "code",
      "source": [
        "data = brute_force_features(df, num_features_all, num_features_high)"
      ],
      "metadata": {
        "id": "GgRyMVy24LI0"
      },
      "execution_count": 24,
      "outputs": []
    },
    {
      "cell_type": "code",
      "source": [
        "data.columns"
      ],
      "metadata": {
        "colab": {
          "base_uri": "https://localhost:8080/"
        },
        "id": "ltT5kGkJDoLe",
        "outputId": "fa366475-6986-4ba6-cad0-b1eab4cfd7bf"
      },
      "execution_count": 25,
      "outputs": [
        {
          "output_type": "execute_result",
          "data": {
            "text/plain": [
              "Index(['REGION', 'TENURE', 'MONTANT', 'FREQUENCE_RECH', 'REVENUE',\n",
              "       'ARPU_SEGMENT', 'FREQUENCE', 'DATA_VOLUME', 'ON_NET', 'ORANGE',\n",
              "       ...\n",
              "       'FREQUENCE_RECH*MONTANT', 'FREQUENCE_RECH/MONTANT',\n",
              "       'FREQUENCE_RECH+ON_NET', 'FREQUENCE_RECH-ON_NET',\n",
              "       'FREQUENCE_RECH*ON_NET', 'FREQUENCE_RECH/ON_NET', 'MONTANT+ON_NET',\n",
              "       'MONTANT-ON_NET', 'MONTANT*ON_NET', 'MONTANT/ON_NET'],\n",
              "      dtype='object', length=114)"
            ]
          },
          "metadata": {},
          "execution_count": 25
        }
      ]
    },
    {
      "cell_type": "markdown",
      "source": [],
      "metadata": {
        "id": "bzwe4ehsJmaE"
      }
    },
    {
      "cell_type": "code",
      "source": [
        "import pandas as pd\n",
        "from sklearn.base import BaseEstimator, TransformerMixin\n",
        "from sklearn.pipeline import Pipeline\n",
        "from sklearn.model_selection import StratifiedKFold, cross_validate, RandomizedSearchCV\n",
        "from sklearn.metrics import make_scorer, average_precision_score\n",
        "from xgboost import XGBClassifier"
      ],
      "metadata": {
        "id": "l8yLpCmLKW_F"
      },
      "execution_count": 26,
      "outputs": []
    },
    {
      "cell_type": "code",
      "source": [
        "drop = ['REGION', 'TOP_PACK']\n",
        "data.drop(drop, axis=1, inplace=True)"
      ],
      "metadata": {
        "id": "Fwlh99ngeAma"
      },
      "execution_count": 27,
      "outputs": []
    },
    {
      "cell_type": "code",
      "source": [
        "X = data.drop('CHURN', axis=1)\n",
        "y = data['CHURN']"
      ],
      "metadata": {
        "id": "Lt6w6OyjJmGE"
      },
      "execution_count": 28,
      "outputs": []
    },
    {
      "cell_type": "code",
      "source": [
        "# 2) Fit XGBoost with categorical support\n",
        "from xgboost import XGBClassifier\n",
        "\n",
        "# xgb_clf = XGBClassifier(\n",
        "#     device='gpu',\n",
        "#     tree_method=\"hist\",              # required for categorical splits\n",
        "#     enable_categorical=True,         # turns on native categorical handling\n",
        "#     eval_metric=\"auc\",\n",
        "#     n_estimators=500,\n",
        "#     learning_rate=0.05,\n",
        "#     max_depth=8,\n",
        "#     subsample=0.8,\n",
        "#     colsample_bytree=0.8\n",
        "#     # optional: n_estimators=500, learning_rate=0.05, max_depth=8, subsample=0.8, colsample_bytree=0.8\n",
        "# )\n",
        "# xgb_clf.fit(X, y)"
      ],
      "metadata": {
        "id": "PmdynvDqJZp0"
      },
      "execution_count": 29,
      "outputs": []
    },
    {
      "cell_type": "code",
      "source": [
        "# # stratified k-fold cross validation\n",
        "# from sklearn.model_selection import StratifiedKFold\n",
        "\n",
        "# print(X.shape, y.shape)\n",
        "# print(\"Percentage of churned customers in the whole dataset:\", y.mean())\n",
        "\n",
        "# skf = StratifiedKFold(n_splits=5, shuffle=True, random_state=42)\n",
        "# for train_index, val_index in skf.split(X, y):\n",
        "#     X_train, X_val = X.iloc[train_index], X.iloc[val_index]\n",
        "#     y_train, y_val = y.iloc[train_index], y.iloc[val_index]\n",
        "#     break  # Just take the first fold for demonstration\n",
        "\n",
        "# X_train.shape, X_val.shape, y_train.shape, y_val.shape"
      ],
      "metadata": {
        "id": "eX0UDjDTJf7b"
      },
      "execution_count": 30,
      "outputs": []
    },
    {
      "cell_type": "code",
      "source": [
        "# import numpy as np\n",
        "# import pandas as pd\n",
        "\n",
        "# def nonfinite_report(df):\n",
        "#     mask = ~np.isfinite(df.select_dtypes(include=['number']))\n",
        "#     cols_with_nonfinite = mask.any(axis=0)\n",
        "#     rows_with_nonfinite = mask.any(axis=1)\n",
        "#     print(\"Columns with non-finite values:\")\n",
        "#     print(cols_with_nonfinite[cols_with_nonfinite].index.tolist())\n",
        "#     print(\"Number of rows with non-finite:\", rows_with_nonfinite.sum())\n",
        "#     return mask\n",
        "\n",
        "# mask_nonfinite = nonfinite_report(X)  # run before the pipeline/fit\n",
        "# # Optional: peek at a few offending rows\n",
        "# offenders = X[mask_nonfinite.any(axis=1)].head()\n"
      ],
      "metadata": {
        "id": "P6rYObEtQT72"
      },
      "execution_count": 31,
      "outputs": []
    },
    {
      "cell_type": "code",
      "source": [
        "# # first row in X\n",
        "# for i in df.columns:\n",
        "#   print(df[i].max())"
      ],
      "metadata": {
        "id": "E7mxG9OFQpxK"
      },
      "execution_count": 32,
      "outputs": []
    },
    {
      "cell_type": "code",
      "source": [
        "# xgb_train_clf = XGBClassifier(\n",
        "#     device='gpu',\n",
        "#     tree_method=\"hist\",              # required for categorical splits\n",
        "#     enable_categorical=True,         # turns on native categorical handling\n",
        "#     eval_metric=\"auc\",\n",
        "#     n_estimators=500,\n",
        "#     learning_rate=0.05,\n",
        "#     max_depth=8,\n",
        "#     subsample=0.8,\n",
        "#     colsample_bytree=0.8\n",
        "#     # optional: n_estimators=500, learning_rate=0.05, max_depth=8, subsample=0.8, colsample_bytree=0.8\n",
        "# )\n",
        "\n",
        "# xgb_train_clf.fit(X_train, y_train)\n",
        "\n",
        "# # print features and importance\n",
        "# features = X.columns\n",
        "# feature_types = X.dtypes\n",
        "# importances = xgb_train_clf.feature_importances_\n",
        "# feature_importance_df = pd.DataFrame({'Feature': features, 'Type': feature_types, 'Importance': importances})\n",
        "# feature_importance_df = feature_importance_df.sort_values(by='Importance', ascending=False)"
      ],
      "metadata": {
        "id": "rzhWc4PSJq78"
      },
      "execution_count": 33,
      "outputs": []
    },
    {
      "cell_type": "code",
      "source": [
        "# feature_importance_df.head(20)"
      ],
      "metadata": {
        "id": "Zak6tHRJJysu"
      },
      "execution_count": 34,
      "outputs": []
    },
    {
      "cell_type": "code",
      "source": [
        "# from sklearn.metrics import classification_report\n",
        "\n",
        "# # Predict hard labels\n",
        "# y_pred = xgb_train_clf.predict(X_val)\n",
        "\n",
        "# # Print the full report\n",
        "# print(classification_report(y_val, y_pred, digits=4))"
      ],
      "metadata": {
        "id": "0lwiaXA9Z_9Z"
      },
      "execution_count": 35,
      "outputs": []
    },
    {
      "cell_type": "code",
      "source": [
        "# from sklearn.metrics import roc_auc_score\n",
        "\n",
        "# # Predict probabilities for the positive class (churn=1)\n",
        "# y_prob = xgb_train_clf.predict_proba(X_val)[:, 1]\n",
        "\n",
        "# # Calculate AUC score\n",
        "# auc = roc_auc_score(y_val, y_prob)\n",
        "\n",
        "# print(f\"AUC: {auc:.4f}\")"
      ],
      "metadata": {
        "id": "dX3etB_ffVMJ"
      },
      "execution_count": 36,
      "outputs": []
    },
    {
      "cell_type": "code",
      "source": [
        "# # === imports ===\n",
        "# import pandas as pd\n",
        "# from sklearn.base import BaseEstimator, TransformerMixin\n",
        "# from sklearn.pipeline import Pipeline\n",
        "# from sklearn.model_selection import StratifiedKFold, cross_validate, RandomizedSearchCV\n",
        "# from sklearn.metrics import make_scorer, average_precision_score\n",
        "# from xgboost import XGBClassifier\n",
        "\n",
        "clf = XGBClassifier(\n",
        "    device='gpu',\n",
        "    tree_method=\"hist\",\n",
        "    enable_categorical=True,\n",
        "    objective=\"binary:logistic\",\n",
        "    eval_metric=\"auc\",\n",
        "    random_state=42,\n",
        "    n_estimators=500,\n",
        "    learning_rate=0.05,\n",
        "    max_depth=8,\n",
        "    subsample=0.8,\n",
        "    colsample_bytree=0.8\n",
        ")\n",
        "\n",
        "pipe = Pipeline([\n",
        "    (\"clf\", clf),\n",
        "])\n",
        "\n",
        "cv = StratifiedKFold(n_splits=5, shuffle=True, random_state=42)\n",
        "\n",
        "scoring = {\n",
        "    \"roc_auc\": \"roc_auc\",\n",
        "    \"pr_auc\": \"average_precision\",\n",
        "    \"accuracy\": \"accuracy\",\n",
        "}\n",
        "\n",
        "cv_results = cross_validate(\n",
        "    pipe, X, y, cv=cv, scoring=scoring, n_jobs=-1, return_estimator=False\n",
        ")\n",
        "\n",
        "# print(\n",
        "#     f\"ROC-AUC: {cv_results['test_roc_auc'].mean():.4f} ± {cv_results['test_roc_auc'].std():.4f}\\n\"\n",
        "#     f\"PR-AUC : {cv_results['test_pr_auc'].mean():.4f} ± {cv_results['test_pr_auc'].std():.4f}\\n\"\n",
        "#     f\"ACC    : {cv_results['test_accuracy'].mean():.4f} ± {cv_results['test_accuracy'].std():.4f}\"\n",
        "# )\n",
        "\n",
        "# # # Hyperparameter tuning for native categoricals\n",
        "# # param_dist = {\n",
        "# #     \"clf__n_estimators\": [400, 600, 800, 1000],\n",
        "# #     \"clf__learning_rate\": [0.01, 0.03, 0.05, 0.1],\n",
        "# #     \"clf__max_depth\": [4, 6, 8, 10]\n",
        "# #     # \"clf__min_child_weight\": [1, 2, 5, 8],\n",
        "# #     # \"clf__subsample\": [0.7, 0.8, 0.9, 1.0],\n",
        "# #     # \"clf__colsample_bytree\": [0.7, 0.8, 0.9, 1.0],\n",
        "# #     # \"clf__gamma\": [0, 1, 2],\n",
        "# #     # \"clf__reg_alpha\": [0, 0.01, 0.1, 1],\n",
        "# #     # \"clf__reg_lambda\": [0.5, 1, 2, 5],\n",
        "# # }\n",
        "\n",
        "# # rs = RandomizedSearchCV(\n",
        "# #     estimator=pipe,\n",
        "# #     param_distributions=param_dist,\n",
        "# #     n_iter=30,\n",
        "# #     scoring=\"roc_auc\",\n",
        "# #     cv=cv,\n",
        "# #     n_jobs=-1,\n",
        "# #     verbose=1,\n",
        "# #     random_state=42,\n",
        "# #     refit=True,\n",
        "# # )\n",
        "\n",
        "# # rs.fit(X, y)\n",
        "# # print(\"Best ROC-AUC (CV):\", rs.best_score_)\n",
        "# # print(\"Best params:\")\n",
        "# # for k, v in rs.best_params_.items():\n",
        "# #     print(f\"  {k}: {v}\")\n",
        "\n",
        "# # best_model = rs.best_estimator_\n"
      ],
      "metadata": {
        "trusted": true,
        "execution": {
          "iopub.status.busy": "2025-09-30T13:59:55.756634Z",
          "iopub.execute_input": "2025-09-30T13:59:55.757319Z",
          "iopub.status.idle": "2025-09-30T14:02:05.378955Z",
          "shell.execute_reply.started": "2025-09-30T13:59:55.757299Z",
          "shell.execute_reply": "2025-09-30T14:02:05.378085Z"
        },
        "id": "120dOU_69fSF"
      },
      "outputs": [],
      "execution_count": null
    }
  ]
}