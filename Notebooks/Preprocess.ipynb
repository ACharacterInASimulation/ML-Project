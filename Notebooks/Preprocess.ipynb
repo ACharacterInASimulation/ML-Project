{
 "cells": [
  {
   "cell_type": "code",
   "execution_count": 3,
   "metadata": {
    "executionInfo": {
     "elapsed": 3,
     "status": "ok",
     "timestamp": 1759160666850,
     "user": {
      "displayName": "Ammar Sajjid",
      "userId": "15626206581519890143"
     },
     "user_tz": -240
    },
    "id": "m5FaehDZEUW2"
   },
   "outputs": [],
   "source": [
    "import pandas as pd\n",
    "import numpy as np\n",
    "import matplotlib.pyplot as plt\n",
    "import seaborn as sns\n",
    "import warnings\n",
    "#\n",
    "# from google.colab import drive\n"
   ]
  },
  {
   "cell_type": "code",
   "execution_count": 4,
   "metadata": {
    "executionInfo": {
     "elapsed": 6,
     "status": "ok",
     "timestamp": 1759160666858,
     "user": {
      "displayName": "Ammar Sajjid",
      "userId": "15626206581519890143"
     },
     "user_tz": -240
    },
    "id": "urUAUhsMEhk2"
   },
   "outputs": [],
   "source": [
    "%matplotlib inline\n",
    "sns.set_style('darkgrid')\n",
    "warnings.filterwarnings(\"ignore\")"
   ]
  },
  {
   "cell_type": "code",
   "execution_count": 8,
   "metadata": {
    "colab": {
     "base_uri": "https://localhost:8080/",
     "height": 313
    },
    "executionInfo": {
     "elapsed": 7500,
     "status": "ok",
     "timestamp": 1759160674369,
     "user": {
      "displayName": "Ammar Sajjid",
      "userId": "15626206581519890143"
     },
     "user_tz": -240
    },
    "id": "fWCn2C9cEjCT",
    "outputId": "25b7d990-cdec-473c-a61a-342e767d66bf"
   },
   "outputs": [
    {
     "data": {
      "text/html": [
       "<div>\n",
       "<style scoped>\n",
       "    .dataframe tbody tr th:only-of-type {\n",
       "        vertical-align: middle;\n",
       "    }\n",
       "\n",
       "    .dataframe tbody tr th {\n",
       "        vertical-align: top;\n",
       "    }\n",
       "\n",
       "    .dataframe thead th {\n",
       "        text-align: right;\n",
       "    }\n",
       "</style>\n",
       "<table border=\"1\" class=\"dataframe\">\n",
       "  <thead>\n",
       "    <tr style=\"text-align: right;\">\n",
       "      <th></th>\n",
       "      <th>user_id</th>\n",
       "      <th>REGION</th>\n",
       "      <th>TENURE</th>\n",
       "      <th>MONTANT</th>\n",
       "      <th>FREQUENCE_RECH</th>\n",
       "      <th>REVENUE</th>\n",
       "      <th>ARPU_SEGMENT</th>\n",
       "      <th>FREQUENCE</th>\n",
       "      <th>DATA_VOLUME</th>\n",
       "      <th>ON_NET</th>\n",
       "      <th>ORANGE</th>\n",
       "      <th>TIGO</th>\n",
       "      <th>ZONE1</th>\n",
       "      <th>ZONE2</th>\n",
       "      <th>MRG</th>\n",
       "      <th>REGULARITY</th>\n",
       "      <th>TOP_PACK</th>\n",
       "      <th>FREQ_TOP_PACK</th>\n",
       "      <th>CHURN</th>\n",
       "    </tr>\n",
       "  </thead>\n",
       "  <tbody>\n",
       "    <tr>\n",
       "      <th>0</th>\n",
       "      <td>00000bfd7d50f01092811bc0c8d7b0d6fe7c3596</td>\n",
       "      <td>FATICK</td>\n",
       "      <td>K &gt; 24 month</td>\n",
       "      <td>4250.0</td>\n",
       "      <td>15.0</td>\n",
       "      <td>4251.0</td>\n",
       "      <td>1417.0</td>\n",
       "      <td>17.0</td>\n",
       "      <td>4.0</td>\n",
       "      <td>388.0</td>\n",
       "      <td>46.0</td>\n",
       "      <td>1.0</td>\n",
       "      <td>1.0</td>\n",
       "      <td>2.0</td>\n",
       "      <td>NO</td>\n",
       "      <td>54</td>\n",
       "      <td>On net 200F=Unlimited _call24H</td>\n",
       "      <td>8.0</td>\n",
       "      <td>0</td>\n",
       "    </tr>\n",
       "    <tr>\n",
       "      <th>1</th>\n",
       "      <td>00000cb4a5d760de88fecb38e2f71b7bec52e834</td>\n",
       "      <td>NaN</td>\n",
       "      <td>I 18-21 month</td>\n",
       "      <td>NaN</td>\n",
       "      <td>NaN</td>\n",
       "      <td>NaN</td>\n",
       "      <td>NaN</td>\n",
       "      <td>NaN</td>\n",
       "      <td>NaN</td>\n",
       "      <td>NaN</td>\n",
       "      <td>NaN</td>\n",
       "      <td>NaN</td>\n",
       "      <td>NaN</td>\n",
       "      <td>NaN</td>\n",
       "      <td>NO</td>\n",
       "      <td>4</td>\n",
       "      <td>NaN</td>\n",
       "      <td>NaN</td>\n",
       "      <td>1</td>\n",
       "    </tr>\n",
       "    <tr>\n",
       "      <th>2</th>\n",
       "      <td>00001654a9d9f96303d9969d0a4a851714a4bb57</td>\n",
       "      <td>NaN</td>\n",
       "      <td>K &gt; 24 month</td>\n",
       "      <td>3600.0</td>\n",
       "      <td>2.0</td>\n",
       "      <td>1020.0</td>\n",
       "      <td>340.0</td>\n",
       "      <td>2.0</td>\n",
       "      <td>NaN</td>\n",
       "      <td>90.0</td>\n",
       "      <td>46.0</td>\n",
       "      <td>7.0</td>\n",
       "      <td>NaN</td>\n",
       "      <td>NaN</td>\n",
       "      <td>NO</td>\n",
       "      <td>17</td>\n",
       "      <td>On-net 1000F=10MilF;10d</td>\n",
       "      <td>1.0</td>\n",
       "      <td>0</td>\n",
       "    </tr>\n",
       "    <tr>\n",
       "      <th>3</th>\n",
       "      <td>00001dd6fa45f7ba044bd5d84937be464ce78ac2</td>\n",
       "      <td>DAKAR</td>\n",
       "      <td>K &gt; 24 month</td>\n",
       "      <td>13500.0</td>\n",
       "      <td>15.0</td>\n",
       "      <td>13502.0</td>\n",
       "      <td>4501.0</td>\n",
       "      <td>18.0</td>\n",
       "      <td>43804.0</td>\n",
       "      <td>41.0</td>\n",
       "      <td>102.0</td>\n",
       "      <td>2.0</td>\n",
       "      <td>NaN</td>\n",
       "      <td>NaN</td>\n",
       "      <td>NO</td>\n",
       "      <td>62</td>\n",
       "      <td>Data:1000F=5GB,7d</td>\n",
       "      <td>11.0</td>\n",
       "      <td>0</td>\n",
       "    </tr>\n",
       "    <tr>\n",
       "      <th>4</th>\n",
       "      <td>000028d9e13a595abe061f9b58f3d76ab907850f</td>\n",
       "      <td>DAKAR</td>\n",
       "      <td>K &gt; 24 month</td>\n",
       "      <td>1000.0</td>\n",
       "      <td>1.0</td>\n",
       "      <td>985.0</td>\n",
       "      <td>328.0</td>\n",
       "      <td>1.0</td>\n",
       "      <td>NaN</td>\n",
       "      <td>39.0</td>\n",
       "      <td>24.0</td>\n",
       "      <td>NaN</td>\n",
       "      <td>NaN</td>\n",
       "      <td>NaN</td>\n",
       "      <td>NO</td>\n",
       "      <td>11</td>\n",
       "      <td>Mixt 250F=Unlimited_call24H</td>\n",
       "      <td>2.0</td>\n",
       "      <td>0</td>\n",
       "    </tr>\n",
       "  </tbody>\n",
       "</table>\n",
       "</div>"
      ],
      "text/plain": [
       "                                    user_id  REGION         TENURE  MONTANT  \\\n",
       "0  00000bfd7d50f01092811bc0c8d7b0d6fe7c3596  FATICK   K > 24 month   4250.0   \n",
       "1  00000cb4a5d760de88fecb38e2f71b7bec52e834     NaN  I 18-21 month      NaN   \n",
       "2  00001654a9d9f96303d9969d0a4a851714a4bb57     NaN   K > 24 month   3600.0   \n",
       "3  00001dd6fa45f7ba044bd5d84937be464ce78ac2   DAKAR   K > 24 month  13500.0   \n",
       "4  000028d9e13a595abe061f9b58f3d76ab907850f   DAKAR   K > 24 month   1000.0   \n",
       "\n",
       "   FREQUENCE_RECH  REVENUE  ARPU_SEGMENT  FREQUENCE  DATA_VOLUME  ON_NET  \\\n",
       "0            15.0   4251.0        1417.0       17.0          4.0   388.0   \n",
       "1             NaN      NaN           NaN        NaN          NaN     NaN   \n",
       "2             2.0   1020.0         340.0        2.0          NaN    90.0   \n",
       "3            15.0  13502.0        4501.0       18.0      43804.0    41.0   \n",
       "4             1.0    985.0         328.0        1.0          NaN    39.0   \n",
       "\n",
       "   ORANGE  TIGO  ZONE1  ZONE2 MRG  REGULARITY                        TOP_PACK  \\\n",
       "0    46.0   1.0    1.0    2.0  NO          54  On net 200F=Unlimited _call24H   \n",
       "1     NaN   NaN    NaN    NaN  NO           4                             NaN   \n",
       "2    46.0   7.0    NaN    NaN  NO          17         On-net 1000F=10MilF;10d   \n",
       "3   102.0   2.0    NaN    NaN  NO          62               Data:1000F=5GB,7d   \n",
       "4    24.0   NaN    NaN    NaN  NO          11     Mixt 250F=Unlimited_call24H   \n",
       "\n",
       "   FREQ_TOP_PACK  CHURN  \n",
       "0            8.0      0  \n",
       "1            NaN      1  \n",
       "2            1.0      0  \n",
       "3           11.0      0  \n",
       "4            2.0      0  "
      ]
     },
     "execution_count": 8,
     "metadata": {},
     "output_type": "execute_result"
    }
   ],
   "source": [
    "df = pd.read_csv(\"../data/Train.csv\")\n",
    "df.head()"
   ]
  },
  {
   "cell_type": "code",
   "execution_count": 10,
   "metadata": {},
   "outputs": [
    {
     "data": {
      "text/html": [
       "<div>\n",
       "<style scoped>\n",
       "    .dataframe tbody tr th:only-of-type {\n",
       "        vertical-align: middle;\n",
       "    }\n",
       "\n",
       "    .dataframe tbody tr th {\n",
       "        vertical-align: top;\n",
       "    }\n",
       "\n",
       "    .dataframe thead th {\n",
       "        text-align: right;\n",
       "    }\n",
       "</style>\n",
       "<table border=\"1\" class=\"dataframe\">\n",
       "  <thead>\n",
       "    <tr style=\"text-align: right;\">\n",
       "      <th></th>\n",
       "      <th>MONTANT</th>\n",
       "      <th>FREQUENCE_RECH</th>\n",
       "      <th>REVENUE</th>\n",
       "      <th>ARPU_SEGMENT</th>\n",
       "      <th>FREQUENCE</th>\n",
       "      <th>DATA_VOLUME</th>\n",
       "      <th>ON_NET</th>\n",
       "      <th>ORANGE</th>\n",
       "      <th>TIGO</th>\n",
       "      <th>ZONE1</th>\n",
       "      <th>ZONE2</th>\n",
       "      <th>REGULARITY</th>\n",
       "      <th>FREQ_TOP_PACK</th>\n",
       "      <th>CHURN</th>\n",
       "    </tr>\n",
       "  </thead>\n",
       "  <tbody>\n",
       "    <tr>\n",
       "      <th>count</th>\n",
       "      <td>1.397309e+06</td>\n",
       "      <td>1.397309e+06</td>\n",
       "      <td>1.428000e+06</td>\n",
       "      <td>1.428000e+06</td>\n",
       "      <td>1.428000e+06</td>\n",
       "      <td>1.093615e+06</td>\n",
       "      <td>1.367373e+06</td>\n",
       "      <td>1.258800e+06</td>\n",
       "      <td>864032.000000</td>\n",
       "      <td>169721.000000</td>\n",
       "      <td>136824.000000</td>\n",
       "      <td>2.154048e+06</td>\n",
       "      <td>1.251454e+06</td>\n",
       "      <td>2.154048e+06</td>\n",
       "    </tr>\n",
       "    <tr>\n",
       "      <th>mean</th>\n",
       "      <td>5.532117e+03</td>\n",
       "      <td>1.152912e+01</td>\n",
       "      <td>5.510810e+03</td>\n",
       "      <td>1.836943e+03</td>\n",
       "      <td>1.397814e+01</td>\n",
       "      <td>3.366450e+03</td>\n",
       "      <td>2.776891e+02</td>\n",
       "      <td>9.541871e+01</td>\n",
       "      <td>23.109253</td>\n",
       "      <td>8.170132</td>\n",
       "      <td>7.553309</td>\n",
       "      <td>2.804251e+01</td>\n",
       "      <td>9.272461e+00</td>\n",
       "      <td>1.875474e-01</td>\n",
       "    </tr>\n",
       "    <tr>\n",
       "      <th>std</th>\n",
       "      <td>7.111339e+03</td>\n",
       "      <td>1.327407e+01</td>\n",
       "      <td>7.187113e+03</td>\n",
       "      <td>2.395700e+03</td>\n",
       "      <td>1.469403e+01</td>\n",
       "      <td>1.330446e+04</td>\n",
       "      <td>8.726889e+02</td>\n",
       "      <td>2.049873e+02</td>\n",
       "      <td>63.578086</td>\n",
       "      <td>41.169511</td>\n",
       "      <td>33.487234</td>\n",
       "      <td>2.228686e+01</td>\n",
       "      <td>1.228044e+01</td>\n",
       "      <td>3.903504e-01</td>\n",
       "    </tr>\n",
       "    <tr>\n",
       "      <th>min</th>\n",
       "      <td>1.000000e+01</td>\n",
       "      <td>1.000000e+00</td>\n",
       "      <td>1.000000e+00</td>\n",
       "      <td>0.000000e+00</td>\n",
       "      <td>1.000000e+00</td>\n",
       "      <td>0.000000e+00</td>\n",
       "      <td>0.000000e+00</td>\n",
       "      <td>0.000000e+00</td>\n",
       "      <td>0.000000</td>\n",
       "      <td>0.000000</td>\n",
       "      <td>0.000000</td>\n",
       "      <td>1.000000e+00</td>\n",
       "      <td>1.000000e+00</td>\n",
       "      <td>0.000000e+00</td>\n",
       "    </tr>\n",
       "    <tr>\n",
       "      <th>25%</th>\n",
       "      <td>1.000000e+03</td>\n",
       "      <td>2.000000e+00</td>\n",
       "      <td>1.000000e+03</td>\n",
       "      <td>3.330000e+02</td>\n",
       "      <td>3.000000e+00</td>\n",
       "      <td>0.000000e+00</td>\n",
       "      <td>5.000000e+00</td>\n",
       "      <td>7.000000e+00</td>\n",
       "      <td>2.000000</td>\n",
       "      <td>0.000000</td>\n",
       "      <td>0.000000</td>\n",
       "      <td>6.000000e+00</td>\n",
       "      <td>2.000000e+00</td>\n",
       "      <td>0.000000e+00</td>\n",
       "    </tr>\n",
       "    <tr>\n",
       "      <th>50%</th>\n",
       "      <td>3.000000e+03</td>\n",
       "      <td>7.000000e+00</td>\n",
       "      <td>3.000000e+03</td>\n",
       "      <td>1.000000e+03</td>\n",
       "      <td>9.000000e+00</td>\n",
       "      <td>2.570000e+02</td>\n",
       "      <td>2.700000e+01</td>\n",
       "      <td>2.900000e+01</td>\n",
       "      <td>6.000000</td>\n",
       "      <td>1.000000</td>\n",
       "      <td>2.000000</td>\n",
       "      <td>2.400000e+01</td>\n",
       "      <td>5.000000e+00</td>\n",
       "      <td>0.000000e+00</td>\n",
       "    </tr>\n",
       "    <tr>\n",
       "      <th>75%</th>\n",
       "      <td>7.350000e+03</td>\n",
       "      <td>1.600000e+01</td>\n",
       "      <td>7.368000e+03</td>\n",
       "      <td>2.456000e+03</td>\n",
       "      <td>2.000000e+01</td>\n",
       "      <td>2.895000e+03</td>\n",
       "      <td>1.560000e+02</td>\n",
       "      <td>9.900000e+01</td>\n",
       "      <td>20.000000</td>\n",
       "      <td>3.000000</td>\n",
       "      <td>5.000000</td>\n",
       "      <td>5.100000e+01</td>\n",
       "      <td>1.200000e+01</td>\n",
       "      <td>0.000000e+00</td>\n",
       "    </tr>\n",
       "    <tr>\n",
       "      <th>max</th>\n",
       "      <td>4.700000e+05</td>\n",
       "      <td>1.330000e+02</td>\n",
       "      <td>5.321770e+05</td>\n",
       "      <td>1.773920e+05</td>\n",
       "      <td>9.100000e+01</td>\n",
       "      <td>1.823866e+06</td>\n",
       "      <td>5.080900e+04</td>\n",
       "      <td>2.132300e+04</td>\n",
       "      <td>4174.000000</td>\n",
       "      <td>4792.000000</td>\n",
       "      <td>3697.000000</td>\n",
       "      <td>6.200000e+01</td>\n",
       "      <td>7.130000e+02</td>\n",
       "      <td>1.000000e+00</td>\n",
       "    </tr>\n",
       "  </tbody>\n",
       "</table>\n",
       "</div>"
      ],
      "text/plain": [
       "            MONTANT  FREQUENCE_RECH       REVENUE  ARPU_SEGMENT     FREQUENCE  \\\n",
       "count  1.397309e+06    1.397309e+06  1.428000e+06  1.428000e+06  1.428000e+06   \n",
       "mean   5.532117e+03    1.152912e+01  5.510810e+03  1.836943e+03  1.397814e+01   \n",
       "std    7.111339e+03    1.327407e+01  7.187113e+03  2.395700e+03  1.469403e+01   \n",
       "min    1.000000e+01    1.000000e+00  1.000000e+00  0.000000e+00  1.000000e+00   \n",
       "25%    1.000000e+03    2.000000e+00  1.000000e+03  3.330000e+02  3.000000e+00   \n",
       "50%    3.000000e+03    7.000000e+00  3.000000e+03  1.000000e+03  9.000000e+00   \n",
       "75%    7.350000e+03    1.600000e+01  7.368000e+03  2.456000e+03  2.000000e+01   \n",
       "max    4.700000e+05    1.330000e+02  5.321770e+05  1.773920e+05  9.100000e+01   \n",
       "\n",
       "        DATA_VOLUME        ON_NET        ORANGE           TIGO          ZONE1  \\\n",
       "count  1.093615e+06  1.367373e+06  1.258800e+06  864032.000000  169721.000000   \n",
       "mean   3.366450e+03  2.776891e+02  9.541871e+01      23.109253       8.170132   \n",
       "std    1.330446e+04  8.726889e+02  2.049873e+02      63.578086      41.169511   \n",
       "min    0.000000e+00  0.000000e+00  0.000000e+00       0.000000       0.000000   \n",
       "25%    0.000000e+00  5.000000e+00  7.000000e+00       2.000000       0.000000   \n",
       "50%    2.570000e+02  2.700000e+01  2.900000e+01       6.000000       1.000000   \n",
       "75%    2.895000e+03  1.560000e+02  9.900000e+01      20.000000       3.000000   \n",
       "max    1.823866e+06  5.080900e+04  2.132300e+04    4174.000000    4792.000000   \n",
       "\n",
       "               ZONE2    REGULARITY  FREQ_TOP_PACK         CHURN  \n",
       "count  136824.000000  2.154048e+06   1.251454e+06  2.154048e+06  \n",
       "mean        7.553309  2.804251e+01   9.272461e+00  1.875474e-01  \n",
       "std        33.487234  2.228686e+01   1.228044e+01  3.903504e-01  \n",
       "min         0.000000  1.000000e+00   1.000000e+00  0.000000e+00  \n",
       "25%         0.000000  6.000000e+00   2.000000e+00  0.000000e+00  \n",
       "50%         2.000000  2.400000e+01   5.000000e+00  0.000000e+00  \n",
       "75%         5.000000  5.100000e+01   1.200000e+01  0.000000e+00  \n",
       "max      3697.000000  6.200000e+01   7.130000e+02  1.000000e+00  "
      ]
     },
     "execution_count": 10,
     "metadata": {},
     "output_type": "execute_result"
    }
   ],
   "source": [
    "df.describe()"
   ]
  },
  {
   "cell_type": "markdown",
   "metadata": {
    "id": "JTRlmWH7EyCn"
   },
   "source": [
    "## Data Preprocessing"
   ]
  },
  {
   "cell_type": "markdown",
   "metadata": {
    "id": "7xPnvAyXE3Lx"
   },
   "source": [
    "### Drop Columns"
   ]
  },
  {
   "cell_type": "code",
   "execution_count": 176,
   "metadata": {
    "executionInfo": {
     "elapsed": 151,
     "status": "ok",
     "timestamp": 1759160674516,
     "user": {
      "displayName": "Ammar Sajjid",
      "userId": "15626206581519890143"
     },
     "user_tz": -240
    },
    "id": "E0f0Y6FTEkhU"
   },
   "outputs": [],
   "source": [
    "df.drop('user_id', axis=1, inplace=True) # Just a unique Identifier"
   ]
  },
  {
   "cell_type": "code",
   "execution_count": 177,
   "metadata": {
    "executionInfo": {
     "elapsed": 180,
     "status": "ok",
     "timestamp": 1759160674698,
     "user": {
      "displayName": "Ammar Sajjid",
      "userId": "15626206581519890143"
     },
     "user_tz": -240
    },
    "id": "K0zz6akNEric"
   },
   "outputs": [],
   "source": [
    "df.drop('MRG', axis=1, inplace=True) # All data points have the same value"
   ]
  },
  {
   "cell_type": "markdown",
   "metadata": {
    "id": "VRjPhYTHEsoE"
   },
   "source": [
    "### Transforming Column \"TENURE\" into numerical values"
   ]
  },
  {
   "cell_type": "code",
   "execution_count": 178,
   "metadata": {
    "colab": {
     "base_uri": "https://localhost:8080/",
     "height": 366
    },
    "executionInfo": {
     "elapsed": 45,
     "status": "ok",
     "timestamp": 1759160674918,
     "user": {
      "displayName": "Ammar Sajjid",
      "userId": "15626206581519890143"
     },
     "user_tz": -240
    },
    "id": "IRpMYLqIGKMb",
    "outputId": "80309a5b-36d5-4be3-ce01-867d9fb3e528"
   },
   "outputs": [
    {
     "data": {
      "text/html": [
       "<div>\n",
       "<style scoped>\n",
       "    .dataframe tbody tr th:only-of-type {\n",
       "        vertical-align: middle;\n",
       "    }\n",
       "\n",
       "    .dataframe tbody tr th {\n",
       "        vertical-align: top;\n",
       "    }\n",
       "\n",
       "    .dataframe thead th {\n",
       "        text-align: right;\n",
       "    }\n",
       "</style>\n",
       "<table border=\"1\" class=\"dataframe\">\n",
       "  <thead>\n",
       "    <tr style=\"text-align: right;\">\n",
       "      <th></th>\n",
       "      <th>count</th>\n",
       "    </tr>\n",
       "    <tr>\n",
       "      <th>TENURE</th>\n",
       "      <th></th>\n",
       "    </tr>\n",
       "  </thead>\n",
       "  <tbody>\n",
       "    <tr>\n",
       "      <th>K &gt; 24 month</th>\n",
       "      <td>2043201</td>\n",
       "    </tr>\n",
       "    <tr>\n",
       "      <th>I 18-21 month</th>\n",
       "      <td>45278</td>\n",
       "    </tr>\n",
       "    <tr>\n",
       "      <th>H 15-18 month</th>\n",
       "      <td>26006</td>\n",
       "    </tr>\n",
       "    <tr>\n",
       "      <th>G 12-15 month</th>\n",
       "      <td>14901</td>\n",
       "    </tr>\n",
       "    <tr>\n",
       "      <th>J 21-24 month</th>\n",
       "      <td>12725</td>\n",
       "    </tr>\n",
       "    <tr>\n",
       "      <th>F 9-12 month</th>\n",
       "      <td>9328</td>\n",
       "    </tr>\n",
       "    <tr>\n",
       "      <th>E 6-9 month</th>\n",
       "      <td>1839</td>\n",
       "    </tr>\n",
       "    <tr>\n",
       "      <th>D 3-6 month</th>\n",
       "      <td>770</td>\n",
       "    </tr>\n",
       "  </tbody>\n",
       "</table>\n",
       "</div><br><label><b>dtype:</b> int64</label>"
      ],
      "text/plain": [
       "TENURE\n",
       "K > 24 month     2043201\n",
       "I 18-21 month      45278\n",
       "H 15-18 month      26006\n",
       "G 12-15 month      14901\n",
       "J 21-24 month      12725\n",
       "F 9-12 month        9328\n",
       "E 6-9 month         1839\n",
       "D 3-6 month          770\n",
       "Name: count, dtype: int64"
      ]
     },
     "execution_count": 178,
     "metadata": {},
     "output_type": "execute_result"
    }
   ],
   "source": [
    "df['TENURE'].value_counts()"
   ]
  },
  {
   "cell_type": "code",
   "execution_count": 179,
   "metadata": {
    "executionInfo": {
     "elapsed": 814,
     "status": "ok",
     "timestamp": 1759160675733,
     "user": {
      "displayName": "Ammar Sajjid",
      "userId": "15626206581519890143"
     },
     "user_tz": -240
    },
    "id": "g20LI5QOFH6l"
   },
   "outputs": [],
   "source": [
    "mapping_dict = {'K > 24 month': 24, 'I 18-21 month': 18, 'H 15-18 month': 15, 'G 12-15 month': 12, 'J 21-24 month': 21, 'F 9-12 month': 9, 'E 6-9 month': 6, 'D 3-6 month': 3}\n",
    "df['TENURE'] = df[\"TENURE\"].apply(lambda x: mapping_dict[x])"
   ]
  },
  {
   "cell_type": "code",
   "execution_count": 180,
   "metadata": {
    "colab": {
     "base_uri": "https://localhost:8080/",
     "height": 366
    },
    "executionInfo": {
     "elapsed": 23,
     "status": "ok",
     "timestamp": 1759160675784,
     "user": {
      "displayName": "Ammar Sajjid",
      "userId": "15626206581519890143"
     },
     "user_tz": -240
    },
    "id": "tsj6CxGgFQvu",
    "outputId": "ae4a6eb9-36d6-419c-93d7-92d86e10f721"
   },
   "outputs": [
    {
     "data": {
      "text/html": [
       "<div>\n",
       "<style scoped>\n",
       "    .dataframe tbody tr th:only-of-type {\n",
       "        vertical-align: middle;\n",
       "    }\n",
       "\n",
       "    .dataframe tbody tr th {\n",
       "        vertical-align: top;\n",
       "    }\n",
       "\n",
       "    .dataframe thead th {\n",
       "        text-align: right;\n",
       "    }\n",
       "</style>\n",
       "<table border=\"1\" class=\"dataframe\">\n",
       "  <thead>\n",
       "    <tr style=\"text-align: right;\">\n",
       "      <th></th>\n",
       "      <th>count</th>\n",
       "    </tr>\n",
       "    <tr>\n",
       "      <th>TENURE</th>\n",
       "      <th></th>\n",
       "    </tr>\n",
       "  </thead>\n",
       "  <tbody>\n",
       "    <tr>\n",
       "      <th>24</th>\n",
       "      <td>2043201</td>\n",
       "    </tr>\n",
       "    <tr>\n",
       "      <th>18</th>\n",
       "      <td>45278</td>\n",
       "    </tr>\n",
       "    <tr>\n",
       "      <th>15</th>\n",
       "      <td>26006</td>\n",
       "    </tr>\n",
       "    <tr>\n",
       "      <th>12</th>\n",
       "      <td>14901</td>\n",
       "    </tr>\n",
       "    <tr>\n",
       "      <th>21</th>\n",
       "      <td>12725</td>\n",
       "    </tr>\n",
       "    <tr>\n",
       "      <th>9</th>\n",
       "      <td>9328</td>\n",
       "    </tr>\n",
       "    <tr>\n",
       "      <th>6</th>\n",
       "      <td>1839</td>\n",
       "    </tr>\n",
       "    <tr>\n",
       "      <th>3</th>\n",
       "      <td>770</td>\n",
       "    </tr>\n",
       "  </tbody>\n",
       "</table>\n",
       "</div><br><label><b>dtype:</b> int64</label>"
      ],
      "text/plain": [
       "TENURE\n",
       "24    2043201\n",
       "18      45278\n",
       "15      26006\n",
       "12      14901\n",
       "21      12725\n",
       "9        9328\n",
       "6        1839\n",
       "3         770\n",
       "Name: count, dtype: int64"
      ]
     },
     "execution_count": 180,
     "metadata": {},
     "output_type": "execute_result"
    }
   ],
   "source": [
    "df['TENURE'].value_counts()"
   ]
  },
  {
   "cell_type": "markdown",
   "metadata": {
    "id": "_iQUGPyEGJGW"
   },
   "source": [
    "### New Column unlimited_pack"
   ]
  },
  {
   "cell_type": "markdown",
   "metadata": {
    "id": "0Mq8SWLGIB7r"
   },
   "source": [
    "1: \"TOP_PACK\" Contains the substring \"unlimited\"\n",
    "\n",
    "0: Otherwise"
   ]
  },
  {
   "cell_type": "code",
   "execution_count": 181,
   "metadata": {
    "executionInfo": {
     "elapsed": 1443,
     "status": "ok",
     "timestamp": 1759160677231,
     "user": {
      "displayName": "Ammar Sajjid",
      "userId": "15626206581519890143"
     },
     "user_tz": -240
    },
    "id": "0hctXiYnGVKt"
   },
   "outputs": [],
   "source": [
    "df['unlimited_pack'] = 0\n",
    "df.loc[df['TOP_PACK'].str.contains(\"unlimited\", case=False, na=False), 'unlimited_pack'] = 1"
   ]
  },
  {
   "cell_type": "code",
   "execution_count": 197,
   "metadata": {
    "colab": {
     "base_uri": "https://localhost:8080/",
     "height": 147
    },
    "executionInfo": {
     "elapsed": 96,
     "status": "ok",
     "timestamp": 1759161214846,
     "user": {
      "displayName": "Ammar Sajjid",
      "userId": "15626206581519890143"
     },
     "user_tz": -240
    },
    "id": "uesqVPHMGa-j",
    "outputId": "23bbb2c4-4e2c-4186-b1b1-bf30cd20b988"
   },
   "outputs": [
    {
     "data": {
      "text/html": [
       "<div>\n",
       "<style scoped>\n",
       "    .dataframe tbody tr th:only-of-type {\n",
       "        vertical-align: middle;\n",
       "    }\n",
       "\n",
       "    .dataframe tbody tr th {\n",
       "        vertical-align: top;\n",
       "    }\n",
       "\n",
       "    .dataframe thead th {\n",
       "        text-align: right;\n",
       "    }\n",
       "</style>\n",
       "<table border=\"1\" class=\"dataframe\">\n",
       "  <thead>\n",
       "    <tr style=\"text-align: right;\">\n",
       "      <th></th>\n",
       "      <th>CHURN</th>\n",
       "    </tr>\n",
       "  </thead>\n",
       "  <tbody>\n",
       "    <tr>\n",
       "      <th>unlimited_pack</th>\n",
       "      <td>-0.161632</td>\n",
       "    </tr>\n",
       "    <tr>\n",
       "      <th>CHURN</th>\n",
       "      <td>1.000000</td>\n",
       "    </tr>\n",
       "  </tbody>\n",
       "</table>\n",
       "</div><br><label><b>dtype:</b> float64</label>"
      ],
      "text/plain": [
       "unlimited_pack   -0.161632\n",
       "CHURN             1.000000\n",
       "Name: CHURN, dtype: float64"
      ]
     },
     "execution_count": 197,
     "metadata": {},
     "output_type": "execute_result"
    }
   ],
   "source": [
    "df[['unlimited_pack', \"CHURN\"]].corr()[\"CHURN\"]"
   ]
  },
  {
   "cell_type": "markdown",
   "metadata": {
    "id": "UYvk9Bq4G631"
   },
   "source": [
    "## New Column popular_pack"
   ]
  },
  {
   "cell_type": "markdown",
   "metadata": {
    "id": "BgSB6fjZH_L0"
   },
   "source": [
    "0: first quartile (x < 25)\n",
    "\n",
    "1: second quartile (25 < x < 50)\n",
    "\n",
    "2: third quartile (50 < x < 75)\n",
    "\n",
    "3: fourth quartile (75 < x)\n",
    "\n",
    "**Quartiles** of the value_counts of TOP_PACK column\n",
    "\n",
    "We expect users of popular packages  "
   ]
  },
  {
   "cell_type": "code",
   "execution_count": 183,
   "metadata": {
    "colab": {
     "base_uri": "https://localhost:8080/",
     "height": 335
    },
    "executionInfo": {
     "elapsed": 268,
     "status": "ok",
     "timestamp": 1759160677535,
     "user": {
      "displayName": "Ammar Sajjid",
      "userId": "15626206581519890143"
     },
     "user_tz": -240
    },
    "id": "5EMdMU_0H1XN",
    "outputId": "a3e3e287-e613-4f7e-cf95-ab2e63aade96"
   },
   "outputs": [
    {
     "data": {
      "text/html": [
       "<div>\n",
       "<style scoped>\n",
       "    .dataframe tbody tr th:only-of-type {\n",
       "        vertical-align: middle;\n",
       "    }\n",
       "\n",
       "    .dataframe tbody tr th {\n",
       "        vertical-align: top;\n",
       "    }\n",
       "\n",
       "    .dataframe thead th {\n",
       "        text-align: right;\n",
       "    }\n",
       "</style>\n",
       "<table border=\"1\" class=\"dataframe\">\n",
       "  <thead>\n",
       "    <tr style=\"text-align: right;\">\n",
       "      <th></th>\n",
       "      <th>count</th>\n",
       "    </tr>\n",
       "  </thead>\n",
       "  <tbody>\n",
       "    <tr>\n",
       "      <th>count</th>\n",
       "      <td>140.000000</td>\n",
       "    </tr>\n",
       "    <tr>\n",
       "      <th>mean</th>\n",
       "      <td>8938.957143</td>\n",
       "    </tr>\n",
       "    <tr>\n",
       "      <th>std</th>\n",
       "      <td>33491.194518</td>\n",
       "    </tr>\n",
       "    <tr>\n",
       "      <th>min</th>\n",
       "      <td>1.000000</td>\n",
       "    </tr>\n",
       "    <tr>\n",
       "      <th>25%</th>\n",
       "      <td>4.500000</td>\n",
       "    </tr>\n",
       "    <tr>\n",
       "      <th>50%</th>\n",
       "      <td>112.000000</td>\n",
       "    </tr>\n",
       "    <tr>\n",
       "      <th>75%</th>\n",
       "      <td>1355.500000</td>\n",
       "    </tr>\n",
       "    <tr>\n",
       "      <th>max</th>\n",
       "      <td>317802.000000</td>\n",
       "    </tr>\n",
       "  </tbody>\n",
       "</table>\n",
       "</div><br><label><b>dtype:</b> float64</label>"
      ],
      "text/plain": [
       "count       140.000000\n",
       "mean       8938.957143\n",
       "std       33491.194518\n",
       "min           1.000000\n",
       "25%           4.500000\n",
       "50%         112.000000\n",
       "75%        1355.500000\n",
       "max      317802.000000\n",
       "Name: count, dtype: float64"
      ]
     },
     "execution_count": 183,
     "metadata": {},
     "output_type": "execute_result"
    }
   ],
   "source": [
    "df['TOP_PACK'].value_counts().describe()"
   ]
  },
  {
   "cell_type": "code",
   "execution_count": 184,
   "metadata": {
    "executionInfo": {
     "elapsed": 5032,
     "status": "ok",
     "timestamp": 1759160682566,
     "user": {
      "displayName": "Ammar Sajjid",
      "userId": "15626206581519890143"
     },
     "user_tz": -240
    },
    "id": "v2eCkoavH29U"
   },
   "outputs": [],
   "source": [
    "low = df['TOP_PACK'].value_counts().describe()[\"25%\"]\n",
    "mid = df['TOP_PACK'].value_counts().describe()[\"50%\"]\n",
    "high = df['TOP_PACK'].value_counts().describe()[\"75%\"]\n",
    "\n",
    "val_counts = df['TOP_PACK'].value_counts()\n",
    "\n",
    "def pack_pop(pack):\n",
    "  if pack is np.nan:\n",
    "    return -1\n",
    "\n",
    "  val = val_counts[pack]\n",
    "\n",
    "  if val < low:\n",
    "    return 1\n",
    "  elif val < mid:\n",
    "    return 2\n",
    "  elif val < high:\n",
    "    return 3\n",
    "  else:\n",
    "    return 4\n",
    "\n",
    "df[\"PACK_POP\"] = df['TOP_PACK'].apply(pack_pop)"
   ]
  },
  {
   "cell_type": "code",
   "execution_count": 194,
   "metadata": {
    "colab": {
     "base_uri": "https://localhost:8080/",
     "height": 147
    },
    "executionInfo": {
     "elapsed": 290,
     "status": "ok",
     "timestamp": 1759161177551,
     "user": {
      "displayName": "Ammar Sajjid",
      "userId": "15626206581519890143"
     },
     "user_tz": -240
    },
    "id": "UpfKAsxK9uQd",
    "outputId": "c243d7db-e344-426d-c053-997bf08d568c"
   },
   "outputs": [
    {
     "data": {
      "text/html": [
       "<div>\n",
       "<style scoped>\n",
       "    .dataframe tbody tr th:only-of-type {\n",
       "        vertical-align: middle;\n",
       "    }\n",
       "\n",
       "    .dataframe tbody tr th {\n",
       "        vertical-align: top;\n",
       "    }\n",
       "\n",
       "    .dataframe thead th {\n",
       "        text-align: right;\n",
       "    }\n",
       "</style>\n",
       "<table border=\"1\" class=\"dataframe\">\n",
       "  <thead>\n",
       "    <tr style=\"text-align: right;\">\n",
       "      <th></th>\n",
       "      <th>CHURN</th>\n",
       "    </tr>\n",
       "  </thead>\n",
       "  <tbody>\n",
       "    <tr>\n",
       "      <th>PACK_POP</th>\n",
       "      <td>-0.444462</td>\n",
       "    </tr>\n",
       "    <tr>\n",
       "      <th>CHURN</th>\n",
       "      <td>1.000000</td>\n",
       "    </tr>\n",
       "  </tbody>\n",
       "</table>\n",
       "</div><br><label><b>dtype:</b> float64</label>"
      ],
      "text/plain": [
       "PACK_POP   -0.444462\n",
       "CHURN       1.000000\n",
       "Name: CHURN, dtype: float64"
      ]
     },
     "execution_count": 194,
     "metadata": {},
     "output_type": "execute_result"
    }
   ],
   "source": [
    "df[[\"PACK_POP\", \"CHURN\"]].corr()[\"CHURN\"]"
   ]
  },
  {
   "cell_type": "markdown",
   "metadata": {
    "id": "unykHZc6_B55"
   },
   "source": [
    "### NA>=10 Column"
   ]
  },
  {
   "cell_type": "code",
   "execution_count": 187,
   "metadata": {
    "colab": {
     "base_uri": "https://localhost:8080/"
    },
    "executionInfo": {
     "elapsed": 73,
     "status": "ok",
     "timestamp": 1759160694301,
     "user": {
      "displayName": "Ammar Sajjid",
      "userId": "15626206581519890143"
     },
     "user_tz": -240
    },
    "id": "ajquxL6_AQbs",
    "outputId": "57087ac6-c5de-4493-8e66-61352073c757"
   },
   "outputs": [
    {
     "data": {
      "text/plain": [
       "0.1875473527052322"
      ]
     },
     "execution_count": 187,
     "metadata": {},
     "output_type": "execute_result"
    }
   ],
   "source": [
    "df[df['CHURN'] == 1].shape[0] / len(df)"
   ]
  },
  {
   "cell_type": "code",
   "execution_count": 188,
   "metadata": {
    "colab": {
     "base_uri": "https://localhost:8080/"
    },
    "executionInfo": {
     "elapsed": 563,
     "status": "ok",
     "timestamp": 1759160698116,
     "user": {
      "displayName": "Ammar Sajjid",
      "userId": "15626206581519890143"
     },
     "user_tz": -240
    },
    "id": "8GvqEIGXATok",
    "outputId": "ba2e6d78-cfdd-47f8-9d83-73b86bcf824f"
   },
   "outputs": [
    {
     "data": {
      "text/plain": [
       "np.float64(0.4525901246103)"
      ]
     },
     "execution_count": 188,
     "metadata": {},
     "output_type": "execute_result"
    }
   ],
   "source": [
    "val_counts = df[df.isna().sum(axis=1) >= 10]['CHURN'].value_counts()\n",
    "val_counts[1] / (val_counts[0] + val_counts[1])"
   ]
  },
  {
   "cell_type": "code",
   "execution_count": 189,
   "metadata": {
    "executionInfo": {
     "elapsed": 705,
     "status": "ok",
     "timestamp": 1759160700370,
     "user": {
      "displayName": "Ammar Sajjid",
      "userId": "15626206581519890143"
     },
     "user_tz": -240
    },
    "id": "08zqubSEDWNO"
   },
   "outputs": [],
   "source": [
    "df['NA>=10'] = False\n",
    "df.loc[df.isna().sum(axis=1) >= 10, 'NA>=10'] = True"
   ]
  },
  {
   "cell_type": "code",
   "execution_count": 195,
   "metadata": {
    "colab": {
     "base_uri": "https://localhost:8080/",
     "height": 147
    },
    "executionInfo": {
     "elapsed": 86,
     "status": "ok",
     "timestamp": 1759161184594,
     "user": {
      "displayName": "Ammar Sajjid",
      "userId": "15626206581519890143"
     },
     "user_tz": -240
    },
    "id": "YmibZ4rZG5i2",
    "outputId": "ab8bfc14-1df2-4fb5-d8af-385bf0add73c"
   },
   "outputs": [
    {
     "data": {
      "text/html": [
       "<div>\n",
       "<style scoped>\n",
       "    .dataframe tbody tr th:only-of-type {\n",
       "        vertical-align: middle;\n",
       "    }\n",
       "\n",
       "    .dataframe tbody tr th {\n",
       "        vertical-align: top;\n",
       "    }\n",
       "\n",
       "    .dataframe thead th {\n",
       "        text-align: right;\n",
       "    }\n",
       "</style>\n",
       "<table border=\"1\" class=\"dataframe\">\n",
       "  <thead>\n",
       "    <tr style=\"text-align: right;\">\n",
       "      <th></th>\n",
       "      <th>CHURN</th>\n",
       "    </tr>\n",
       "  </thead>\n",
       "  <tbody>\n",
       "    <tr>\n",
       "      <th>NA&gt;=10</th>\n",
       "      <td>0.494754</td>\n",
       "    </tr>\n",
       "    <tr>\n",
       "      <th>CHURN</th>\n",
       "      <td>1.000000</td>\n",
       "    </tr>\n",
       "  </tbody>\n",
       "</table>\n",
       "</div><br><label><b>dtype:</b> float64</label>"
      ],
      "text/plain": [
       "NA>=10    0.494754\n",
       "CHURN     1.000000\n",
       "Name: CHURN, dtype: float64"
      ]
     },
     "execution_count": 195,
     "metadata": {},
     "output_type": "execute_result"
    }
   ],
   "source": [
    "df[['NA>=10', 'CHURN']].corr()[\"CHURN\"]"
   ]
  },
  {
   "cell_type": "markdown",
   "metadata": {
    "id": "SuBDIcyxLlXK"
   },
   "source": [
    "## Null Value_counts"
   ]
  },
  {
   "cell_type": "code",
   "execution_count": 199,
   "metadata": {
    "executionInfo": {
     "elapsed": 568,
     "status": "ok",
     "timestamp": 1759161408158,
     "user": {
      "displayName": "Ammar Sajjid",
      "userId": "15626206581519890143"
     },
     "user_tz": -240
    },
    "id": "1tsg4BTCL5z-"
   },
   "outputs": [],
   "source": [
    "df[\"NULL_COUNTS\"] = df.isna().sum(axis=1)"
   ]
  },
  {
   "cell_type": "code",
   "execution_count": 200,
   "metadata": {
    "colab": {
     "base_uri": "https://localhost:8080/",
     "height": 147
    },
    "executionInfo": {
     "elapsed": 71,
     "status": "ok",
     "timestamp": 1759161425180,
     "user": {
      "displayName": "Ammar Sajjid",
      "userId": "15626206581519890143"
     },
     "user_tz": -240
    },
    "id": "PVcAxU0aMJ_Z",
    "outputId": "2a647a0f-f35d-4222-db27-8f9144e88e15"
   },
   "outputs": [
    {
     "data": {
      "text/html": [
       "<div>\n",
       "<style scoped>\n",
       "    .dataframe tbody tr th:only-of-type {\n",
       "        vertical-align: middle;\n",
       "    }\n",
       "\n",
       "    .dataframe tbody tr th {\n",
       "        vertical-align: top;\n",
       "    }\n",
       "\n",
       "    .dataframe thead th {\n",
       "        text-align: right;\n",
       "    }\n",
       "</style>\n",
       "<table border=\"1\" class=\"dataframe\">\n",
       "  <thead>\n",
       "    <tr style=\"text-align: right;\">\n",
       "      <th></th>\n",
       "      <th>CHURN</th>\n",
       "    </tr>\n",
       "  </thead>\n",
       "  <tbody>\n",
       "    <tr>\n",
       "      <th>NULL_COUNTS</th>\n",
       "      <td>0.530775</td>\n",
       "    </tr>\n",
       "    <tr>\n",
       "      <th>CHURN</th>\n",
       "      <td>1.000000</td>\n",
       "    </tr>\n",
       "  </tbody>\n",
       "</table>\n",
       "</div><br><label><b>dtype:</b> float64</label>"
      ],
      "text/plain": [
       "NULL_COUNTS    0.530775\n",
       "CHURN          1.000000\n",
       "Name: CHURN, dtype: float64"
      ]
     },
     "execution_count": 200,
     "metadata": {},
     "output_type": "execute_result"
    }
   ],
   "source": [
    "df[[\"NULL_COUNTS\", \"CHURN\"]].corr()['CHURN']"
   ]
  },
  {
   "cell_type": "code",
   "execution_count": 202,
   "metadata": {
    "colab": {
     "base_uri": "https://localhost:8080/",
     "height": 147
    },
    "executionInfo": {
     "elapsed": 68,
     "status": "ok",
     "timestamp": 1759161470631,
     "user": {
      "displayName": "Ammar Sajjid",
      "userId": "15626206581519890143"
     },
     "user_tz": -240
    },
    "id": "TFuzvVQJMRu1",
    "outputId": "f20d732b-9ddc-48cb-8888-73444644b13e"
   },
   "outputs": [
    {
     "data": {
      "text/html": [
       "<div>\n",
       "<style scoped>\n",
       "    .dataframe tbody tr th:only-of-type {\n",
       "        vertical-align: middle;\n",
       "    }\n",
       "\n",
       "    .dataframe tbody tr th {\n",
       "        vertical-align: top;\n",
       "    }\n",
       "\n",
       "    .dataframe thead th {\n",
       "        text-align: right;\n",
       "    }\n",
       "</style>\n",
       "<table border=\"1\" class=\"dataframe\">\n",
       "  <thead>\n",
       "    <tr style=\"text-align: right;\">\n",
       "      <th></th>\n",
       "      <th>NULL_COUNTS</th>\n",
       "    </tr>\n",
       "  </thead>\n",
       "  <tbody>\n",
       "    <tr>\n",
       "      <th>NULL_COUNTS</th>\n",
       "      <td>1.000000</td>\n",
       "    </tr>\n",
       "    <tr>\n",
       "      <th>NA&gt;=10</th>\n",
       "      <td>0.957086</td>\n",
       "    </tr>\n",
       "  </tbody>\n",
       "</table>\n",
       "</div><br><label><b>dtype:</b> float64</label>"
      ],
      "text/plain": [
       "NULL_COUNTS    1.000000\n",
       "NA>=10         0.957086\n",
       "Name: NULL_COUNTS, dtype: float64"
      ]
     },
     "execution_count": 202,
     "metadata": {},
     "output_type": "execute_result"
    }
   ],
   "source": [
    "df[[\"NULL_COUNTS\", \"NA>=10\"]].corr()['NULL_COUNTS']"
   ]
  },
  {
   "cell_type": "code",
   "execution_count": 204,
   "metadata": {
    "executionInfo": {
     "elapsed": 241,
     "status": "ok",
     "timestamp": 1759161575187,
     "user": {
      "displayName": "Ammar Sajjid",
      "userId": "15626206581519890143"
     },
     "user_tz": -240
    },
    "id": "pT__fdy2MbQj"
   },
   "outputs": [],
   "source": [
    "df.drop(\"NA>=10\", axis=1, inplace=True)"
   ]
  }
 ],
 "metadata": {
  "colab": {
   "authorship_tag": "ABX9TyM43jCm/RIPIgumrbXKSDrQ",
   "provenance": []
  },
  "kernelspec": {
   "display_name": "mlproject",
   "language": "python",
   "name": "python3"
  },
  "language_info": {
   "codemirror_mode": {
    "name": "ipython",
    "version": 3
   },
   "file_extension": ".py",
   "mimetype": "text/x-python",
   "name": "python",
   "nbconvert_exporter": "python",
   "pygments_lexer": "ipython3",
   "version": "3.11.13"
  }
 },
 "nbformat": 4,
 "nbformat_minor": 0
}
